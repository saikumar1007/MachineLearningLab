{
 "cells": [
  {
   "cell_type": "code",
   "execution_count": 1,
   "metadata": {},
   "outputs": [
    {
     "name": "stderr",
     "output_type": "stream",
     "text": [
      "/home/user/.local/lib/python3.10/site-packages/matplotlib/projections/__init__.py:63: UserWarning: Unable to import Axes3D. This may be due to multiple versions of Matplotlib being installed (e.g. as a system package and as a pip package). As a result, the 3D projection is not available.\n",
      "  warnings.warn(\"Unable to import Axes3D. This may be due to multiple versions of \"\n"
     ]
    }
   ],
   "source": [
    "import pandas as pd\n",
    "import matplotlib.pyplot as plt\n",
    "import seaborn as sns\n",
    "import numpy as np"
   ]
  },
  {
   "cell_type": "code",
   "execution_count": 2,
   "metadata": {},
   "outputs": [
    {
     "data": {
      "text/html": [
       "<div>\n",
       "<style scoped>\n",
       "    .dataframe tbody tr th:only-of-type {\n",
       "        vertical-align: middle;\n",
       "    }\n",
       "\n",
       "    .dataframe tbody tr th {\n",
       "        vertical-align: top;\n",
       "    }\n",
       "\n",
       "    .dataframe thead th {\n",
       "        text-align: right;\n",
       "    }\n",
       "</style>\n",
       "<table border=\"1\" class=\"dataframe\">\n",
       "  <thead>\n",
       "    <tr style=\"text-align: right;\">\n",
       "      <th></th>\n",
       "      <th>Manufacturer</th>\n",
       "      <th>Model</th>\n",
       "      <th>Sales in thousands</th>\n",
       "      <th>4-year resale value</th>\n",
       "      <th>Vehicle type</th>\n",
       "      <th>Price in thousands</th>\n",
       "      <th>Engine size</th>\n",
       "      <th>Horsepower</th>\n",
       "      <th>Wheelbase</th>\n",
       "      <th>Width</th>\n",
       "      <th>Length</th>\n",
       "      <th>Curb weight</th>\n",
       "      <th>Fuel capacity</th>\n",
       "      <th>Fuel efficiency</th>\n",
       "      <th>Latest Launch</th>\n",
       "    </tr>\n",
       "  </thead>\n",
       "  <tbody>\n",
       "    <tr>\n",
       "      <th>0</th>\n",
       "      <td>Acura</td>\n",
       "      <td>Integra</td>\n",
       "      <td>16.919</td>\n",
       "      <td>16.36</td>\n",
       "      <td>Passenger</td>\n",
       "      <td>21.5</td>\n",
       "      <td>1.8</td>\n",
       "      <td>140</td>\n",
       "      <td>101.2</td>\n",
       "      <td>67.3</td>\n",
       "      <td>172.4</td>\n",
       "      <td>2.639</td>\n",
       "      <td>13.2</td>\n",
       "      <td>28</td>\n",
       "      <td>2-Feb-14</td>\n",
       "    </tr>\n",
       "    <tr>\n",
       "      <th>1</th>\n",
       "      <td>Acura</td>\n",
       "      <td>TL</td>\n",
       "      <td>39.384</td>\n",
       "      <td>19.875</td>\n",
       "      <td>Passenger</td>\n",
       "      <td>28.4</td>\n",
       "      <td>3.2</td>\n",
       "      <td>225</td>\n",
       "      <td>108.1</td>\n",
       "      <td>70.3</td>\n",
       "      <td>192.9</td>\n",
       "      <td>3.517</td>\n",
       "      <td>17.2</td>\n",
       "      <td>25</td>\n",
       "      <td>6-Mar-15</td>\n",
       "    </tr>\n",
       "    <tr>\n",
       "      <th>2</th>\n",
       "      <td>Acura</td>\n",
       "      <td>CL</td>\n",
       "      <td>14.114</td>\n",
       "      <td>18.225</td>\n",
       "      <td>Passenger</td>\n",
       "      <td>.</td>\n",
       "      <td>3.2</td>\n",
       "      <td>225</td>\n",
       "      <td>106.9</td>\n",
       "      <td>70.6</td>\n",
       "      <td>192</td>\n",
       "      <td>3.47</td>\n",
       "      <td>17.2</td>\n",
       "      <td>26</td>\n",
       "      <td>1-Apr-14</td>\n",
       "    </tr>\n",
       "    <tr>\n",
       "      <th>3</th>\n",
       "      <td>Acura</td>\n",
       "      <td>RL</td>\n",
       "      <td>8.588</td>\n",
       "      <td>29.725</td>\n",
       "      <td>Passenger</td>\n",
       "      <td>42</td>\n",
       "      <td>3.5</td>\n",
       "      <td>210</td>\n",
       "      <td>114.6</td>\n",
       "      <td>71.4</td>\n",
       "      <td>196.6</td>\n",
       "      <td>3.85</td>\n",
       "      <td>18</td>\n",
       "      <td>22</td>\n",
       "      <td>3-Oct-15</td>\n",
       "    </tr>\n",
       "    <tr>\n",
       "      <th>4</th>\n",
       "      <td>Audi</td>\n",
       "      <td>A4</td>\n",
       "      <td>20.397</td>\n",
       "      <td>22.255</td>\n",
       "      <td>Passenger</td>\n",
       "      <td>23.99</td>\n",
       "      <td>1.8</td>\n",
       "      <td>150</td>\n",
       "      <td>102.6</td>\n",
       "      <td>68.2</td>\n",
       "      <td>178</td>\n",
       "      <td>2.998</td>\n",
       "      <td>16.4</td>\n",
       "      <td>27</td>\n",
       "      <td>10-Aug-15</td>\n",
       "    </tr>\n",
       "  </tbody>\n",
       "</table>\n",
       "</div>"
      ],
      "text/plain": [
       "    Manufacturer              Model  Sales in thousands 4-year resale value  \\\n",
       "0  Acura          Integra                        16.919               16.36   \n",
       "1  Acura          TL                             39.384              19.875   \n",
       "2  Acura          CL                             14.114              18.225   \n",
       "3  Acura          RL                              8.588              29.725   \n",
       "4  Audi           A4                             20.397              22.255   \n",
       "\n",
       "  Vehicle type Price in thousands Engine size Horsepower Wheelbase Width  \\\n",
       "0    Passenger               21.5         1.8        140     101.2  67.3   \n",
       "1    Passenger               28.4         3.2        225     108.1  70.3   \n",
       "2    Passenger                  .         3.2        225     106.9  70.6   \n",
       "3    Passenger                 42         3.5        210     114.6  71.4   \n",
       "4    Passenger              23.99         1.8        150     102.6  68.2   \n",
       "\n",
       "  Length Curb weight Fuel capacity Fuel efficiency Latest Launch  \n",
       "0  172.4       2.639          13.2              28      2-Feb-14  \n",
       "1  192.9       3.517          17.2              25      6-Mar-15  \n",
       "2    192        3.47          17.2              26      1-Apr-14  \n",
       "3  196.6        3.85            18              22      3-Oct-15  \n",
       "4    178       2.998          16.4              27     10-Aug-15  "
      ]
     },
     "execution_count": 2,
     "metadata": {},
     "output_type": "execute_result"
    }
   ],
   "source": [
    "df = pd.read_csv(\"Car_sales.csv\")\n",
    "df.head()"
   ]
  },
  {
   "cell_type": "code",
   "execution_count": 3,
   "metadata": {},
   "outputs": [
    {
     "name": "stdout",
     "output_type": "stream",
     "text": [
      "<class 'pandas.core.frame.DataFrame'>\n",
      "RangeIndex: 157 entries, 0 to 156\n",
      "Data columns (total 15 columns):\n",
      " #   Column               Non-Null Count  Dtype  \n",
      "---  ------               --------------  -----  \n",
      " 0   Manufacturer         157 non-null    object \n",
      " 1   Model                157 non-null    object \n",
      " 2   Sales in thousands   157 non-null    float64\n",
      " 3   4-year resale value  157 non-null    object \n",
      " 4   Vehicle type         157 non-null    object \n",
      " 5   Price in thousands   157 non-null    object \n",
      " 6   Engine size          157 non-null    object \n",
      " 7   Horsepower           157 non-null    object \n",
      " 8   Wheelbase            157 non-null    object \n",
      " 9   Width                157 non-null    object \n",
      " 10  Length               157 non-null    object \n",
      " 11  Curb weight          157 non-null    object \n",
      " 12  Fuel capacity        157 non-null    object \n",
      " 13  Fuel efficiency      157 non-null    object \n",
      " 14  Latest Launch        157 non-null    object \n",
      "dtypes: float64(1), object(14)\n",
      "memory usage: 18.5+ KB\n"
     ]
    }
   ],
   "source": [
    "df.info()"
   ]
  },
  {
   "cell_type": "code",
   "execution_count": 4,
   "metadata": {},
   "outputs": [
    {
     "data": {
      "text/plain": [
       "(157, 15)"
      ]
     },
     "execution_count": 4,
     "metadata": {},
     "output_type": "execute_result"
    }
   ],
   "source": [
    "# Duplicates: \n",
    "df_cleaned = df.drop_duplicates() # drop the row which containing duplicates\n",
    "df_cleaned.shape"
   ]
  },
  {
   "cell_type": "code",
   "execution_count": 5,
   "metadata": {},
   "outputs": [
    {
     "name": "stdout",
     "output_type": "stream",
     "text": [
      "       Sales in thousands\n",
      "count          157.000000\n",
      "mean            52.998076\n",
      "std             68.029422\n",
      "min              0.110000\n",
      "25%             14.114000\n",
      "50%             29.450000\n",
      "75%             67.956000\n",
      "max            540.561000\n"
     ]
    }
   ],
   "source": [
    "# Summary :\n",
    "print(df.describe())"
   ]
  },
  {
   "cell_type": "code",
   "execution_count": 6,
   "metadata": {},
   "outputs": [
    {
     "data": {
      "text/plain": [
       "Manufacturer           0\n",
       "Model                  0\n",
       "Sales in thousands     0\n",
       "4-year resale value    0\n",
       "Vehicle type           0\n",
       "Price in thousands     0\n",
       "Engine size            0\n",
       "Horsepower             0\n",
       "Wheelbase              0\n",
       "Width                  0\n",
       "Length                 0\n",
       "Curb weight            0\n",
       "Fuel capacity          0\n",
       "Fuel efficiency        0\n",
       "Latest Launch          0\n",
       "dtype: int64"
      ]
     },
     "execution_count": 6,
     "metadata": {},
     "output_type": "execute_result"
    }
   ],
   "source": [
    "#counting null values according to the column\n",
    "df.isnull().sum()"
   ]
  },
  {
   "cell_type": "code",
   "execution_count": 7,
   "metadata": {},
   "outputs": [
    {
     "data": {
      "text/plain": [
       "'Manufacturer'"
      ]
     },
     "execution_count": 7,
     "metadata": {},
     "output_type": "execute_result"
    }
   ],
   "source": [
    "df.isnull().sum().idxmax() # getting the maximum null col"
   ]
  },
  {
   "cell_type": "code",
   "execution_count": 8,
   "metadata": {},
   "outputs": [
    {
     "data": {
      "text/plain": [
       "'Manufacturer'"
      ]
     },
     "execution_count": 8,
     "metadata": {},
     "output_type": "execute_result"
    }
   ],
   "source": [
    "# filling the null values \n",
    "df['Sales in thousands'] = df['Sales in thousands'].fillna(df['Sales in thousands'].mean())\n",
    "\n",
    "max_null_idx = df.isnull().sum().idxmax()\n",
    "max_null_idx"
   ]
  },
  {
   "cell_type": "code",
   "execution_count": 9,
   "metadata": {},
   "outputs": [
    {
     "data": {
      "text/plain": [
       "'the min row is: '"
      ]
     },
     "metadata": {},
     "output_type": "display_data"
    },
    {
     "data": {
      "text/html": [
       "<div>\n",
       "<style scoped>\n",
       "    .dataframe tbody tr th:only-of-type {\n",
       "        vertical-align: middle;\n",
       "    }\n",
       "\n",
       "    .dataframe tbody tr th {\n",
       "        vertical-align: top;\n",
       "    }\n",
       "\n",
       "    .dataframe thead th {\n",
       "        text-align: right;\n",
       "    }\n",
       "</style>\n",
       "<table border=\"1\" class=\"dataframe\">\n",
       "  <thead>\n",
       "    <tr style=\"text-align: right;\">\n",
       "      <th></th>\n",
       "      <th>Manufacturer</th>\n",
       "      <th>Model</th>\n",
       "      <th>Sales in thousands</th>\n",
       "      <th>4-year resale value</th>\n",
       "      <th>Vehicle type</th>\n",
       "      <th>Price in thousands</th>\n",
       "      <th>Engine size</th>\n",
       "      <th>Horsepower</th>\n",
       "      <th>Wheelbase</th>\n",
       "      <th>Width</th>\n",
       "      <th>Length</th>\n",
       "      <th>Curb weight</th>\n",
       "      <th>Fuel capacity</th>\n",
       "      <th>Fuel efficiency</th>\n",
       "      <th>Latest Launch</th>\n",
       "    </tr>\n",
       "  </thead>\n",
       "  <tbody>\n",
       "    <tr>\n",
       "      <th>83</th>\n",
       "      <td>Mitsubishi</td>\n",
       "      <td>3000GT</td>\n",
       "      <td>0.11</td>\n",
       "      <td>20.94</td>\n",
       "      <td>Passenger</td>\n",
       "      <td>25.45</td>\n",
       "      <td>3</td>\n",
       "      <td>161</td>\n",
       "      <td>97.2</td>\n",
       "      <td>72.4</td>\n",
       "      <td>180.3</td>\n",
       "      <td>3.131</td>\n",
       "      <td>19.8</td>\n",
       "      <td>21</td>\n",
       "      <td>29-Jun-14</td>\n",
       "    </tr>\n",
       "  </tbody>\n",
       "</table>\n",
       "</div>"
      ],
      "text/plain": [
       "     Manufacturer              Model  Sales in thousands 4-year resale value  \\\n",
       "83  Mitsubishi     3000GT                           0.11               20.94   \n",
       "\n",
       "   Vehicle type Price in thousands Engine size Horsepower Wheelbase Width  \\\n",
       "83    Passenger              25.45           3        161      97.2  72.4   \n",
       "\n",
       "   Length Curb weight Fuel capacity Fuel efficiency Latest Launch  \n",
       "83  180.3       3.131          19.8              21     29-Jun-14  "
      ]
     },
     "metadata": {},
     "output_type": "display_data"
    },
    {
     "data": {
      "text/plain": [
       "[np.float64(0.11), np.float64(540.561)]"
      ]
     },
     "execution_count": 9,
     "metadata": {},
     "output_type": "execute_result"
    }
   ],
   "source": [
    "# finding the minimum and maxum of the dataframe and printing that row also\n",
    "def min_max_calc(col_name):\n",
    "  display(\"the min row is: \",df[df[col_name] == df[col_name].min()])\n",
    "  return [df[col_name].min(),df[col_name].max()]\n",
    "min_max_calc('Sales in thousands')\n",
    "# df"
   ]
  },
  {
   "cell_type": "code",
   "execution_count": 10,
   "metadata": {},
   "outputs": [
    {
     "data": {
      "text/plain": [
       "'Horsepower - Min:'"
      ]
     },
     "metadata": {},
     "output_type": "display_data"
    },
    {
     "data": {
      "text/plain": [
       "'.'"
      ]
     },
     "metadata": {},
     "output_type": "display_data"
    },
    {
     "data": {
      "text/plain": [
       "'\\n'"
      ]
     },
     "metadata": {},
     "output_type": "display_data"
    },
    {
     "data": {
      "text/html": [
       "<div>\n",
       "<style scoped>\n",
       "    .dataframe tbody tr th:only-of-type {\n",
       "        vertical-align: middle;\n",
       "    }\n",
       "\n",
       "    .dataframe tbody tr th {\n",
       "        vertical-align: top;\n",
       "    }\n",
       "\n",
       "    .dataframe thead th {\n",
       "        text-align: right;\n",
       "    }\n",
       "</style>\n",
       "<table border=\"1\" class=\"dataframe\">\n",
       "  <thead>\n",
       "    <tr style=\"text-align: right;\">\n",
       "      <th></th>\n",
       "      <th>Manufacturer</th>\n",
       "      <th>Model</th>\n",
       "      <th>Sales in thousands</th>\n",
       "      <th>4-year resale value</th>\n",
       "      <th>Vehicle type</th>\n",
       "      <th>Price in thousands</th>\n",
       "      <th>Engine size</th>\n",
       "      <th>Horsepower</th>\n",
       "      <th>Wheelbase</th>\n",
       "      <th>Width</th>\n",
       "      <th>Length</th>\n",
       "      <th>Curb weight</th>\n",
       "      <th>Fuel capacity</th>\n",
       "      <th>Fuel efficiency</th>\n",
       "      <th>Latest Launch</th>\n",
       "    </tr>\n",
       "  </thead>\n",
       "  <tbody>\n",
       "    <tr>\n",
       "      <th>33</th>\n",
       "      <td>Chrysler</td>\n",
       "      <td>Town &amp; Country</td>\n",
       "      <td>53.48</td>\n",
       "      <td>19.54</td>\n",
       "      <td>Car</td>\n",
       "      <td>.</td>\n",
       "      <td>.</td>\n",
       "      <td>.</td>\n",
       "      <td>.</td>\n",
       "      <td>.</td>\n",
       "      <td>.</td>\n",
       "      <td>.</td>\n",
       "      <td>.</td>\n",
       "      <td>.</td>\n",
       "      <td>13-Jul-15</td>\n",
       "    </tr>\n",
       "  </tbody>\n",
       "</table>\n",
       "</div>"
      ],
      "text/plain": [
       "     Manufacturer              Model  Sales in thousands 4-year resale value  \\\n",
       "33  Chrysler       Town & Country                  53.48               19.54   \n",
       "\n",
       "   Vehicle type Price in thousands Engine size Horsepower Wheelbase Width  \\\n",
       "33          Car                  .           .          .         .     .   \n",
       "\n",
       "   Length Curb weight Fuel capacity Fuel efficiency Latest Launch  \n",
       "33      .           .             .               .     13-Jul-15  "
      ]
     },
     "metadata": {},
     "output_type": "display_data"
    },
    {
     "data": {
      "text/plain": [
       "'Horsepower - Max:'"
      ]
     },
     "metadata": {},
     "output_type": "display_data"
    },
    {
     "data": {
      "text/plain": [
       "'92'"
      ]
     },
     "metadata": {},
     "output_type": "display_data"
    },
    {
     "data": {
      "text/plain": [
       "'\\n'"
      ]
     },
     "metadata": {},
     "output_type": "display_data"
    },
    {
     "data": {
      "text/html": [
       "<div>\n",
       "<style scoped>\n",
       "    .dataframe tbody tr th:only-of-type {\n",
       "        vertical-align: middle;\n",
       "    }\n",
       "\n",
       "    .dataframe tbody tr th {\n",
       "        vertical-align: top;\n",
       "    }\n",
       "\n",
       "    .dataframe thead th {\n",
       "        text-align: right;\n",
       "    }\n",
       "</style>\n",
       "<table border=\"1\" class=\"dataframe\">\n",
       "  <thead>\n",
       "    <tr style=\"text-align: right;\">\n",
       "      <th></th>\n",
       "      <th>Manufacturer</th>\n",
       "      <th>Model</th>\n",
       "      <th>Sales in thousands</th>\n",
       "      <th>4-year resale value</th>\n",
       "      <th>Vehicle type</th>\n",
       "      <th>Price in thousands</th>\n",
       "      <th>Engine size</th>\n",
       "      <th>Horsepower</th>\n",
       "      <th>Wheelbase</th>\n",
       "      <th>Width</th>\n",
       "      <th>Length</th>\n",
       "      <th>Curb weight</th>\n",
       "      <th>Fuel capacity</th>\n",
       "      <th>Fuel efficiency</th>\n",
       "      <th>Latest Launch</th>\n",
       "    </tr>\n",
       "  </thead>\n",
       "  <tbody>\n",
       "    <tr>\n",
       "      <th>62</th>\n",
       "      <td>Hyundai</td>\n",
       "      <td>Accent</td>\n",
       "      <td>41.184</td>\n",
       "      <td>5.86</td>\n",
       "      <td>Passenger</td>\n",
       "      <td>9.699</td>\n",
       "      <td>1.5</td>\n",
       "      <td>92</td>\n",
       "      <td>96.1</td>\n",
       "      <td>65.7</td>\n",
       "      <td>166.7</td>\n",
       "      <td>2.24</td>\n",
       "      <td>11.9</td>\n",
       "      <td>31</td>\n",
       "      <td>9-Oct-14</td>\n",
       "    </tr>\n",
       "  </tbody>\n",
       "</table>\n",
       "</div>"
      ],
      "text/plain": [
       "     Manufacturer              Model  Sales in thousands 4-year resale value  \\\n",
       "62  Hyundai        Accent                         41.184                5.86   \n",
       "\n",
       "   Vehicle type Price in thousands Engine size Horsepower Wheelbase Width  \\\n",
       "62    Passenger              9.699         1.5         92      96.1  65.7   \n",
       "\n",
       "   Length Curb weight Fuel capacity Fuel efficiency Latest Launch  \n",
       "62  166.7        2.24          11.9              31      9-Oct-14  "
      ]
     },
     "metadata": {},
     "output_type": "display_data"
    }
   ],
   "source": [
    "def find_min_max(df, column_name): \n",
    "  min_value = df[column_name].min() \n",
    "  max_value = df[column_name].max() \n",
    "  # Find the rows with the min and max values \n",
    "  min_row = df[df[column_name] == min_value] \n",
    "  max_row = df[df[column_name] == max_value]\n",
    "  return min_value, max_value, min_row, max_row\n",
    "\n",
    "# Now call the function to find min and max for Horsepower \n",
    "hp_min, hp_max, hp_min_row, hp_max_row = find_min_max(df, \"Horsepower\")\n",
    "display(\"Horsepower - Min:\", hp_min, \"\\n\", hp_min_row) \n",
    "display(\"Horsepower - Max:\", hp_max, \"\\n\", hp_max_row)"
   ]
  },
  {
   "cell_type": "markdown",
   "metadata": {},
   "source": [
    "### Probability density distribution of continuous numerical variable-length"
   ]
  },
  {
   "cell_type": "markdown",
   "metadata": {},
   "source": [
    "from scipy.stats import gaussian_kde "
   ]
  },
  {
   "cell_type": "code",
   "execution_count": 11,
   "metadata": {},
   "outputs": [],
   "source": [
    "from scipy.stats import gaussian_kde\n",
    "import seaborn as sns"
   ]
  },
  {
   "cell_type": "code",
   "execution_count": 12,
   "metadata": {},
   "outputs": [
    {
     "data": {
      "text/plain": [
       "(157, 15)"
      ]
     },
     "metadata": {},
     "output_type": "display_data"
    },
    {
     "data": {
      "text/plain": [
       "'\\nKey Differences\\n--------------------------------------------------------------------------------------------------------\\nFeature\\t         |      sns.countplot()\\t                    |    sns.histplot()\\n--------------------------------------------------------------------------------------------------------\\nData Type\\t     |    Categorical (e.g., Car Brands)\\t    |  Continuous (e.g., Heights, Weights)\\nBins\\t         |     ❌ No Bins\\t                      |  ✅ Uses bins\\nKDE Support\\t     |     ❌ No\\t                              | ✅ Yes (kde=True)\\nExample Usage\\t |     Counting car brands, colors, cities\\t|  Analyzing age, salary, length, etc\\n--------------------------------------------------------------------------------------------------------\\n'"
      ]
     },
     "execution_count": 12,
     "metadata": {},
     "output_type": "execute_result"
    },
    {
     "data": {
      "image/png": "[encoded data removed]",
      "text/plain": [
       "<Figure size 432x288 with 1 Axes>"
      ]
     },
     "metadata": {
      "needs_background": "light"
     },
     "output_type": "display_data"
    }
   ],
   "source": [
    "df.columns = df.columns.str.strip()\n",
    "# above is noting but converting all to the columns\n",
    "if \"Length\" in df.columns:\n",
    "    df[\"Length\"] = pd.to_numeric(df[\"Length\"],errors=\"coerce\") #consver the object to the numbers and the \"coerce\" convers invalid to null\n",
    "    data = df[\"Length\"].dropna()\n",
    "    kde = gaussian_kde(data)\n",
    "    density_values = kde.evaluate(data)\n",
    "    result = pd.DataFrame({'Length': data, 'Density': density_values})\n",
    "    sns.histplot(result[\"Length\"],bins=30,kde=True)\n",
    "    display(df.shape)\n",
    "else: \n",
    "    print(\"Error: 'Length' column not found in the dataset.\")\n",
    "\n",
    "\n",
    "# sns.countplot() - For Categorical Data\n",
    "# sns.histplot() - For Continuous Data\n",
    "\n",
    "\n",
    "\n",
    "'''\n",
    "Key Differences\n",
    "--------------------------------------------------------------------------------------------------------\n",
    "Feature\t         |      sns.countplot()\t                    |    sns.histplot()\n",
    "--------------------------------------------------------------------------------------------------------\n",
    "Data Type\t     |    Categorical (e.g., Car Brands)\t    |  Continuous (e.g., Heights, Weights)\n",
    "Bins\t         |     ❌ No Bins\t                      |  ✅ Uses bins\n",
    "KDE Support\t     |     ❌ No\t                              | ✅ Yes (kde=True)\n",
    "Example Usage\t |     Counting car brands, colors, cities\t|  Analyzing age, salary, length, etc\n",
    "--------------------------------------------------------------------------------------------------------\n",
    "'''\n",
    "\n"
   ]
  },
  {
   "cell_type": "code",
   "execution_count": 13,
   "metadata": {},
   "outputs": [
    {
     "data": {
      "image/png": "[encoded data removed]",
      "text/plain": [
       "<Figure size 432x288 with 1 Axes>"
      ]
     },
     "metadata": {
      "needs_background": "light"
     },
     "output_type": "display_data"
    }
   ],
   "source": [
    "import seaborn as sns\n",
    "import matplotlib.pyplot as plt\n",
    "\n",
    "sns.kdeplot(result[\"Length\"], fill=True)  # KDE plot for continuous data\n",
    "plt.title(\"Probability Density Distribution of Length\")\n",
    "plt.xlabel(\"Length\")\n",
    "plt.ylabel(\"Density\")\n",
    "plt.show()"
   ]
  },
  {
   "cell_type": "code",
   "execution_count": 14,
   "metadata": {},
   "outputs": [
    {
     "data": {
      "text/html": [
       "<div>\n",
       "<style scoped>\n",
       "    .dataframe tbody tr th:only-of-type {\n",
       "        vertical-align: middle;\n",
       "    }\n",
       "\n",
       "    .dataframe tbody tr th {\n",
       "        vertical-align: top;\n",
       "    }\n",
       "\n",
       "    .dataframe thead th {\n",
       "        text-align: right;\n",
       "    }\n",
       "</style>\n",
       "<table border=\"1\" class=\"dataframe\">\n",
       "  <thead>\n",
       "    <tr style=\"text-align: right;\">\n",
       "      <th></th>\n",
       "      <th>Manufacturer</th>\n",
       "      <th>Count</th>\n",
       "    </tr>\n",
       "  </thead>\n",
       "  <tbody>\n",
       "    <tr>\n",
       "      <th>0</th>\n",
       "      <td>Acura</td>\n",
       "      <td>4</td>\n",
       "    </tr>\n",
       "    <tr>\n",
       "      <th>1</th>\n",
       "      <td>Audi</td>\n",
       "      <td>3</td>\n",
       "    </tr>\n",
       "    <tr>\n",
       "      <th>2</th>\n",
       "      <td>BMW</td>\n",
       "      <td>3</td>\n",
       "    </tr>\n",
       "    <tr>\n",
       "      <th>3</th>\n",
       "      <td>Buick</td>\n",
       "      <td>4</td>\n",
       "    </tr>\n",
       "    <tr>\n",
       "      <th>4</th>\n",
       "      <td>Cadillac</td>\n",
       "      <td>5</td>\n",
       "    </tr>\n",
       "    <tr>\n",
       "      <th>5</th>\n",
       "      <td>Chevrolet</td>\n",
       "      <td>9</td>\n",
       "    </tr>\n",
       "    <tr>\n",
       "      <th>6</th>\n",
       "      <td>Chrysler</td>\n",
       "      <td>7</td>\n",
       "    </tr>\n",
       "    <tr>\n",
       "      <th>7</th>\n",
       "      <td>Dodge</td>\n",
       "      <td>11</td>\n",
       "    </tr>\n",
       "    <tr>\n",
       "      <th>8</th>\n",
       "      <td>Ford</td>\n",
       "      <td>11</td>\n",
       "    </tr>\n",
       "    <tr>\n",
       "      <th>9</th>\n",
       "      <td>Honda</td>\n",
       "      <td>5</td>\n",
       "    </tr>\n",
       "    <tr>\n",
       "      <th>10</th>\n",
       "      <td>Hyundai</td>\n",
       "      <td>3</td>\n",
       "    </tr>\n",
       "    <tr>\n",
       "      <th>11</th>\n",
       "      <td>Infiniti</td>\n",
       "      <td>1</td>\n",
       "    </tr>\n",
       "    <tr>\n",
       "      <th>12</th>\n",
       "      <td>Jaguar</td>\n",
       "      <td>1</td>\n",
       "    </tr>\n",
       "    <tr>\n",
       "      <th>13</th>\n",
       "      <td>Jeep</td>\n",
       "      <td>3</td>\n",
       "    </tr>\n",
       "    <tr>\n",
       "      <th>14</th>\n",
       "      <td>Lexus</td>\n",
       "      <td>6</td>\n",
       "    </tr>\n",
       "    <tr>\n",
       "      <th>15</th>\n",
       "      <td>Lincoln</td>\n",
       "      <td>3</td>\n",
       "    </tr>\n",
       "    <tr>\n",
       "      <th>16</th>\n",
       "      <td>Mercedes-Benz</td>\n",
       "      <td>9</td>\n",
       "    </tr>\n",
       "    <tr>\n",
       "      <th>17</th>\n",
       "      <td>Mercury</td>\n",
       "      <td>6</td>\n",
       "    </tr>\n",
       "    <tr>\n",
       "      <th>18</th>\n",
       "      <td>Mitsubishi</td>\n",
       "      <td>7</td>\n",
       "    </tr>\n",
       "    <tr>\n",
       "      <th>19</th>\n",
       "      <td>Nissan</td>\n",
       "      <td>7</td>\n",
       "    </tr>\n",
       "    <tr>\n",
       "      <th>20</th>\n",
       "      <td>Oldsmobile</td>\n",
       "      <td>6</td>\n",
       "    </tr>\n",
       "    <tr>\n",
       "      <th>21</th>\n",
       "      <td>Plymouth</td>\n",
       "      <td>4</td>\n",
       "    </tr>\n",
       "    <tr>\n",
       "      <th>22</th>\n",
       "      <td>Pontiac</td>\n",
       "      <td>6</td>\n",
       "    </tr>\n",
       "    <tr>\n",
       "      <th>23</th>\n",
       "      <td>Porsche</td>\n",
       "      <td>3</td>\n",
       "    </tr>\n",
       "    <tr>\n",
       "      <th>24</th>\n",
       "      <td>Saab</td>\n",
       "      <td>2</td>\n",
       "    </tr>\n",
       "    <tr>\n",
       "      <th>25</th>\n",
       "      <td>Saturn</td>\n",
       "      <td>5</td>\n",
       "    </tr>\n",
       "    <tr>\n",
       "      <th>26</th>\n",
       "      <td>Subaru</td>\n",
       "      <td>2</td>\n",
       "    </tr>\n",
       "    <tr>\n",
       "      <th>27</th>\n",
       "      <td>Toyota</td>\n",
       "      <td>9</td>\n",
       "    </tr>\n",
       "    <tr>\n",
       "      <th>28</th>\n",
       "      <td>Volkswagen</td>\n",
       "      <td>6</td>\n",
       "    </tr>\n",
       "    <tr>\n",
       "      <th>29</th>\n",
       "      <td>Volvo</td>\n",
       "      <td>6</td>\n",
       "    </tr>\n",
       "  </tbody>\n",
       "</table>\n",
       "</div>"
      ],
      "text/plain": [
       "     Manufacturer  Count\n",
       "0   Acura              4\n",
       "1   Audi               3\n",
       "2   BMW                3\n",
       "3   Buick              4\n",
       "4   Cadillac           5\n",
       "5   Chevrolet          9\n",
       "6   Chrysler           7\n",
       "7   Dodge             11\n",
       "8   Ford              11\n",
       "9   Honda              5\n",
       "10  Hyundai            3\n",
       "11  Infiniti           1\n",
       "12  Jaguar             1\n",
       "13  Jeep               3\n",
       "14  Lexus              6\n",
       "15  Lincoln            3\n",
       "16  Mercedes-Benz      9\n",
       "17  Mercury            6\n",
       "18  Mitsubishi         7\n",
       "19  Nissan             7\n",
       "20  Oldsmobile         6\n",
       "21  Plymouth           4\n",
       "22  Pontiac            6\n",
       "23  Porsche            3\n",
       "24  Saab               2\n",
       "25  Saturn             5\n",
       "26  Subaru             2\n",
       "27  Toyota             9\n",
       "28  Volkswagen         6\n",
       "29  Volvo              6"
      ]
     },
     "execution_count": 14,
     "metadata": {},
     "output_type": "execute_result"
    }
   ],
   "source": [
    "# Count by category –group by manufacture\n",
    "#  you can use the groupby()  function in pandas along with size() or count().\n",
    "\n",
    "# manufacturer_counts =  df.groupby('Manufacturer').size().reset_index(name='Count')\n",
    "# manufacturer_counts\n",
    "\n",
    "df.groupby('Manufacturer').size().reset_index(name='Count')"
   ]
  },
  {
   "cell_type": "code",
   "execution_count": 15,
   "metadata": {},
   "outputs": [
    {
     "data": {
      "image/png": "[encoded data removed]",
      "text/plain": [
       "<Figure size 720x432 with 1 Axes>"
      ]
     },
     "metadata": {
      "needs_background": "light"
     },
     "output_type": "display_data"
    },
    {
     "data": {
      "image/png": "[encoded data removed]",
      "text/plain": [
       "<Figure size 720x432 with 1 Axes>"
      ]
     },
     "metadata": {
      "needs_background": "light"
     },
     "output_type": "display_data"
    }
   ],
   "source": [
    "# above code nicely from the non sir pdf\n",
    "import pandas as pd \n",
    "import seaborn as sns \n",
    "import matplotlib.pyplot as plt \n",
    "\n",
    "\n",
    "df.columns = df.columns.str.strip()\n",
    "\n",
    "numerical_columns = df.select_dtypes(include=['number']).columns \n",
    "numerical_columns = [col for col in numerical_columns if col != 'Manufacturer']\n",
    "\n",
    "if 'Manufacturer' in df.columns: \n",
    "# Create boxplots for each numerical column with respect to 'Manufacturer' \n",
    "  for col in numerical_columns:\n",
    "    plt.figure(figsize=(10, 6)) \n",
    "    sns.boxplot(x='Manufacturer', y=col, data=df) \n",
    "    # sns.boxplot(y=col, data=df) # this is wrong\n",
    "    plt.title(f'Boxplot of {col} by Manufacturer') \n",
    "    plt.xlabel('Manufacturer')  \n",
    "    plt.ylabel(col) \n",
    "    plt.xticks(rotation=45)    #since namse are clmsy\n",
    "    plt.show() \n",
    "else: \n",
    "  print(\"Error: 'Manufacturer' column not found in the dataset.\")"
   ]
  },
  {
   "cell_type": "code",
   "execution_count": 16,
   "metadata": {},
   "outputs": [
    {
     "name": "stdout",
     "output_type": "stream",
     "text": [
      "Column names in the dataset:\n",
      "---------------------------\n",
      "Index(['Manufacturer', 'Model', 'Sales in thousands', '4-year resale value',\n",
      "       'Vehicle type', 'Price in thousands', 'Engine size', 'Horsepower',\n",
      "       'Wheelbase', 'Width', 'Length', 'Curb weight', 'Fuel capacity',\n",
      "       'Fuel efficiency', 'Latest Launch'],\n",
      "      dtype='object')\n",
      "Using column 'Sales in thousands' as the sales column.\n",
      "\n",
      "Shape of X (input): (157, 14)\n",
      "Shape of y (output): (157,)\n",
      "\n",
      "Input (X):\n",
      "    Manufacturer              Model 4-year resale value Vehicle type  \\\n",
      "0  Acura          Integra                         16.36    Passenger   \n",
      "1  Acura          TL                             19.875    Passenger   \n",
      "2  Acura          CL                             18.225    Passenger   \n",
      "3  Acura          RL                             29.725    Passenger   \n",
      "4  Audi           A4                             22.255    Passenger   \n",
      "\n",
      "  Price in thousands Engine size Horsepower Wheelbase Width  Length  \\\n",
      "0               21.5         1.8        140     101.2  67.3   172.4   \n",
      "1               28.4         3.2        225     108.1  70.3   192.9   \n",
      "2                  .         3.2        225     106.9  70.6   192.0   \n",
      "3                 42         3.5        210     114.6  71.4   196.6   \n",
      "4              23.99         1.8        150     102.6  68.2   178.0   \n",
      "\n",
      "  Curb weight Fuel capacity Fuel efficiency Latest Launch  \n",
      "0       2.639          13.2              28      2-Feb-14  \n",
      "1       3.517          17.2              25      6-Mar-15  \n",
      "2        3.47          17.2              26      1-Apr-14  \n",
      "3        3.85            18              22      3-Oct-15  \n",
      "4       2.998          16.4              27     10-Aug-15  \n",
      "\n",
      "Output (y):\n"
     ]
    },
    {
     "data": {
      "text/plain": [
       "0    16.919\n",
       "1    39.384\n",
       "2    14.114\n",
       "3     8.588\n",
       "4    20.397\n",
       "Name: Sales in thousands, dtype: float64"
      ]
     },
     "metadata": {},
     "output_type": "display_data"
    }
   ],
   "source": [
    "# Divide the data\n",
    "# Display column names\n",
    "print(\"Column names in the dataset:\")  \n",
    "print(\"---------------------------\")  \n",
    "print(df.columns)  \n",
    "\n",
    "# Identify the sales-related column\n",
    "sales_column = [col for col in df.columns if 'sales' in col.lower()]  \n",
    "\n",
    "# Raise an error if no sales column is found\n",
    "if not sales_column:  \n",
    "    raise KeyError(\"No column related to 'sales' found in the dataset. Please check the column names.\")\n",
    "\n",
    "# Select the first matching sales column\n",
    "sales_column_name = sales_column[0]  \n",
    "print(f\"Using column '{sales_column_name}' as the sales column.\")  \n",
    "\n",
    "# Separate the target variable (y) and input features (X)\n",
    "y = df[sales_column_name]  \n",
    "X = df.drop(columns=[sales_column_name])  \n",
    "\n",
    "# Display dataset shapes\n",
    "print(\"\\nShape of X (input):\", X.shape)  \n",
    "print(\"Shape of y (output):\", y.shape)  \n",
    "\n",
    "# Show sample data\n",
    "print(\"\\nInput (X):\")  \n",
    "print(X.head())  \n",
    "\n",
    "print(\"\\nOutput (y):\")  \n",
    "display(y.head()) "
   ]
  },
  {
   "cell_type": "markdown",
   "metadata": {},
   "source": [
    "### What is Label Encoding? \n",
    "Label Encoding is a method used to convert categorical (text) data \n",
    "into numerical form. It assigns a unique integer to each category in a \n",
    "column. "
   ]
  },
  {
   "cell_type": "code",
   "execution_count": 17,
   "metadata": {},
   "outputs": [
    {
     "name": "stdout",
     "output_type": "stream",
     "text": [
      "Using column 'Sales in thousands' as the sales column.\n",
      "\n",
      "Shape of X (input features): (157, 14)\n",
      "Shape of y (target variable): (157,)\n",
      "\n",
      "Input (X) with encoded categorical variables:\n",
      "   Manufacturer  Model  4-year resale value  Vehicle type  Price in thousands  \\\n",
      "0             0     79                   53             1                  59   \n",
      "1             0    143                   70             1                 102   \n",
      "2             0     25                   63             1                   0   \n",
      "3             0    115                   87             1                 130   \n",
      "4             1      8                   78             1                  77   \n",
      "\n",
      "   Engine size  Horsepower  Wheelbase  Width  Length  Curb weight  \\\n",
      "0            4          17          5      9   172.4           18   \n",
      "1           16          50         36     32   192.9           91   \n",
      "2           16          50         29     35   192.0           85   \n",
      "3           19          44         56     40   196.6          113   \n",
      "4            4          22          9     16   178.0           39   \n",
      "\n",
      "   Fuel capacity  Fuel efficiency  Latest Launch  \n",
      "0              8               14             42  \n",
      "1             29               11            112  \n",
      "2             29               12              0  \n",
      "3             32                8             94  \n",
      "4             23               13              2  \n",
      "\n",
      "Output (y):\n",
      "0    16.919\n",
      "1    39.384\n",
      "2    14.114\n",
      "3     8.588\n",
      "4    20.397\n",
      "Name: Sales in thousands, dtype: float64\n",
      "\n",
      "Mapping for Manufacturer:\n",
      "{'Acura        ': np.int64(0), 'Audi         ': np.int64(1), 'BMW          ': np.int64(2), 'Buick        ': np.int64(3), 'Cadillac     ': np.int64(4), 'Chevrolet    ': np.int64(5), 'Chrysler     ': np.int64(6), 'Dodge        ': np.int64(7), 'Ford         ': np.int64(8), 'Honda        ': np.int64(9), 'Hyundai      ': np.int64(10), 'Infiniti     ': np.int64(11), 'Jaguar       ': np.int64(12), 'Jeep         ': np.int64(13), 'Lexus        ': np.int64(14), 'Lincoln      ': np.int64(15), 'Mercedes-Benz': np.int64(16), 'Mercury      ': np.int64(17), 'Mitsubishi   ': np.int64(18), 'Nissan       ': np.int64(19), 'Oldsmobile   ': np.int64(20), 'Plymouth     ': np.int64(21), 'Pontiac      ': np.int64(22), 'Porsche      ': np.int64(23), 'Saab         ': np.int64(24), 'Saturn       ': np.int64(25), 'Subaru       ': np.int64(26), 'Toyota       ': np.int64(27), 'Volkswagen   ': np.int64(28), 'Volvo        ': np.int64(29)}\n",
      "\n",
      "Mapping for Model:\n",
      "{'3-Sep': np.int64(0), '3000GT           ': np.int64(1), '300M             ': np.int64(2), '323i             ': np.int64(3), '328i             ': np.int64(4), '4Runner          ': np.int64(5), '5-Sep': np.int64(6), '528i             ': np.int64(7), 'A4               ': np.int64(8), 'A6               ': np.int64(9), 'A8               ': np.int64(10), 'Accent           ': np.int64(11), 'Accord           ': np.int64(12), 'Alero            ': np.int64(13), 'Altima           ': np.int64(14), 'Aurora           ': np.int64(15), 'Avalon           ': np.int64(16), 'Avenger          ': np.int64(17), 'Beetle           ': np.int64(18), 'Bonneville       ': np.int64(19), 'Boxter           ': np.int64(20), 'Bravada          ': np.int64(21), 'Breeze           ': np.int64(22), 'C-Class          ': np.int64(23), 'C70              ': np.int64(24), 'CL               ': np.int64(25), 'CL500            ': np.int64(26), 'CLK Coupe        ': np.int64(27), 'CR-V             ': np.int64(28), 'Cabrio           ': np.int64(29), 'Camaro           ': np.int64(30), 'Camry            ': np.int64(31), 'Caravan          ': np.int64(32), 'Carrera Cabriolet': np.int64(33), 'Carrera Coupe    ': np.int64(34), 'Catera           ': np.int64(35), 'Cavalier         ': np.int64(36), 'Celica           ': np.int64(37), 'Century          ': np.int64(38), 'Cherokee         ': np.int64(39), 'Cirrus           ': np.int64(40), 'Civic            ': np.int64(41), 'Concorde         ': np.int64(42), 'Continental      ': np.int64(43), 'Contour          ': np.int64(44), 'Corolla          ': np.int64(45), 'Corvette         ': np.int64(46), 'Cougar           ': np.int64(47), 'Crown Victoria   ': np.int64(48), 'Cutlass          ': np.int64(49), 'Dakota           ': np.int64(50), 'DeVille          ': np.int64(51), 'Diamante         ': np.int64(52), 'Durango          ': np.int64(53), 'E-Class          ': np.int64(54), 'ES300            ': np.int64(55), 'Eclipse          ': np.int64(56), 'Elantra          ': np.int64(57), 'Eldorado         ': np.int64(58), 'Escalade         ': np.int64(59), 'Escort           ': np.int64(60), 'Expedition       ': np.int64(61), 'Explorer         ': np.int64(62), 'F-Series         ': np.int64(63), 'Firebird         ': np.int64(64), 'Focus            ': np.int64(65), 'Forester         ': np.int64(66), 'Frontier         ': np.int64(67), 'GS300            ': np.int64(68), 'GS400            ': np.int64(69), 'GTI              ': np.int64(70), 'Galant           ': np.int64(71), 'Golf             ': np.int64(72), 'Grand Am         ': np.int64(73), 'Grand Cherokee   ': np.int64(74), 'Grand Marquis    ': np.int64(75), 'Grand Prix       ': np.int64(76), 'I30              ': np.int64(77), 'Impala           ': np.int64(78), 'Integra          ': np.int64(79), 'Intrepid         ': np.int64(80), 'Intrigue         ': np.int64(81), 'Jetta            ': np.int64(82), 'LHS              ': np.int64(83), 'LS               ': np.int64(84), 'LS400            ': np.int64(85), 'LW               ': np.int64(86), 'LX470            ': np.int64(87), 'Land Cruiser     ': np.int64(88), 'LeSabre          ': np.int64(89), 'Lumina           ': np.int64(90), 'M-Class          ': np.int64(91), 'Malibu           ': np.int64(92), 'Maxima           ': np.int64(93), 'Metro            ': np.int64(94), 'Mirage           ': np.int64(95), 'Montana          ': np.int64(96), 'Monte Carlo      ': np.int64(97), 'Montero          ': np.int64(98), 'Montero Sport    ': np.int64(99), 'Mountaineer      ': np.int64(100), 'Mustang          ': np.int64(101), 'Mystique         ': np.int64(102), 'Navigator        ': np.int64(103), 'Neon             ': np.int64(104), 'Odyssey          ': np.int64(105), 'Outback          ': np.int64(106), 'Park Avenue      ': np.int64(107), 'Passat           ': np.int64(108), 'Passport         ': np.int64(109), 'Pathfinder       ': np.int64(110), 'Prizm            ': np.int64(111), 'Prowler          ': np.int64(112), 'Quest            ': np.int64(113), 'RAV4             ': np.int64(114), 'RL               ': np.int64(115), 'RX300            ': np.int64(116), 'Ram Pickup       ': np.int64(117), 'Ram Van          ': np.int64(118), 'Ram Wagon        ': np.int64(119), 'Ranger           ': np.int64(120), 'Regal            ': np.int64(121), 'S-Class          ': np.int64(122), 'S-Type           ': np.int64(123), 'S40              ': np.int64(124), 'S70              ': np.int64(125), 'S80              ': np.int64(126), 'SC               ': np.int64(127), 'SL               ': np.int64(128), 'SL-Class         ': np.int64(129), 'SLK              ': np.int64(130), 'SLK230           ': np.int64(131), 'SW               ': np.int64(132), 'Sable            ': np.int64(133), 'Sebring Conv.    ': np.int64(134), 'Sebring Coupe    ': np.int64(135), 'Sentra           ': np.int64(136), 'Seville          ': np.int64(137), 'Sienna           ': np.int64(138), 'Silhouette       ': np.int64(139), 'Sonata           ': np.int64(140), 'Stratus          ': np.int64(141), 'Sunfire          ': np.int64(142), 'TL               ': np.int64(143), 'Tacoma           ': np.int64(144), 'Taurus           ': np.int64(145), 'Town & Country   ': np.int64(146), 'Town car         ': np.int64(147), 'V40              ': np.int64(148), 'V70              ': np.int64(149), 'Villager         ': np.int64(150), 'Viper            ': np.int64(151), 'Voyager          ': np.int64(152), 'Windstar         ': np.int64(153), 'Wrangler         ': np.int64(154), 'Xterra           ': np.int64(155)}\n",
      "\n",
      "Mapping for 4-year resale value:\n",
      "{'.': np.int64(0), '10.025': np.int64(1), '10.055': np.int64(2), '10.185': np.int64(3), '10.29': np.int64(4), '10.31': np.int64(5), '10.395': np.int64(6), '10.59': np.int64(7), '10.595': np.int64(8), '10.79': np.int64(9), '11.03': np.int64(10), '11.225': np.int64(11), '11.24': np.int64(12), '11.26': np.int64(13), '11.295': np.int64(14), '11.425': np.int64(15), '11.525': np.int64(16), '12.025': np.int64(17), '12.275': np.int64(18), '12.36': np.int64(19), '12.475': np.int64(20), '12.545': np.int64(21), '12.64': np.int64(22), '12.76': np.int64(23), '13.025': np.int64(24), '13.175': np.int64(25), '13.21': np.int64(26), '13.225': np.int64(27), '13.24': np.int64(28), '13.245': np.int64(29), '13.325': np.int64(30), '13.36': np.int64(31), '13.425': np.int64(32), '13.475': np.int64(33), '13.725': np.int64(34), '13.74': np.int64(35), '13.76': np.int64(36), '13.775': np.int64(37), '13.79': np.int64(38), '13.88': np.int64(39), '13.89': np.int64(40), '14.01': np.int64(41), '14.18': np.int64(42), '14.21': np.int64(43), '14.795': np.int64(44), '14.875': np.int64(45), '15.06': np.int64(46), '15.075': np.int64(47), '15.125': np.int64(48), '15.24': np.int64(49), '15.38': np.int64(50), '15.445': np.int64(51), '15.51': np.int64(52), '16.36': np.int64(53), '16.575': np.int64(54), '16.64': np.int64(55), '16.725': np.int64(56), '17.325': np.int64(57), '17.525': np.int64(58), '17.71': np.int64(59), '17.805': np.int64(60), '17.81': np.int64(61), '18.14': np.int64(62), '18.225': np.int64(63), '18.81': np.int64(64), '19.125': np.int64(65), '19.425': np.int64(66), '19.49': np.int64(67), '19.54': np.int64(68), '19.69': np.int64(69), '19.875': np.int64(70), '19.89': np.int64(71), '19.925': np.int64(72), '20.19': np.int64(73), '20.43': np.int64(74), '20.525': np.int64(75), '20.94': np.int64(76), '21.725': np.int64(77), '22.255': np.int64(78), '22.525': np.int64(79), '23.555': np.int64(80), '23.575': np.int64(81), '25.725': np.int64(82), '26.05': np.int64(83), '26.975': np.int64(84), '27.1': np.int64(85), '28.675': np.int64(86), '29.725': np.int64(87), '32.075': np.int64(88), '34.08': np.int64(89), '36.125': np.int64(90), '36.225': np.int64(91), '39': np.int64(92), '40.375': np.int64(93), '41.25': np.int64(94), '41.45': np.int64(95), '5.16': np.int64(96), '5.86': np.int64(97), '50.375': np.int64(98), '58.47': np.int64(99), '58.6': np.int64(100), '60.625': np.int64(101), '67.55': np.int64(102), '7.425': np.int64(103), '7.75': np.int64(104), '7.825': np.int64(105), '7.85': np.int64(106), '8.325': np.int64(107), '8.45': np.int64(108), '8.8': np.int64(109), '8.835': np.int64(110), '8.91': np.int64(111), '9.125': np.int64(112), '9.2': np.int64(113), '9.25': np.int64(114), '9.575': np.int64(115), '9.8': np.int64(116), '9.85': np.int64(117)}\n",
      "\n",
      "Mapping for Vehicle type:\n",
      "{'Car': np.int64(0), 'Passenger': np.int64(1)}\n",
      "\n",
      "Mapping for Price in thousands:\n",
      "{'.': np.int64(0), '10.685': np.int64(1), '11.528': np.int64(2), '11.799': np.int64(3), '12.05': np.int64(4), '12.07': np.int64(5), '12.315': np.int64(6), '12.535': np.int64(7), '12.64': np.int64(8), '12.885': np.int64(9), '13.108': np.int64(10), '13.26': np.int64(11), '13.499': np.int64(12), '13.96': np.int64(13), '13.987': np.int64(14), '14.29': np.int64(15), '14.46': np.int64(16), '14.9': np.int64(17), '14.999': np.int64(18), '15.01': np.int64(19), '15.35': np.int64(20), '15.9': np.int64(21), '16.08': np.int64(22), '16.24': np.int64(23), '16.48': np.int64(24), '16.535': np.int64(25), '16.54': np.int64(26), '16.7': np.int64(27), '16.875': np.int64(28), '16.888': np.int64(29), '16.98': np.int64(30), '17.035': np.int64(31), '17.357': np.int64(32), '17.5': np.int64(33), '17.518': np.int64(34), '17.885': np.int64(35), '17.89': np.int64(36), '18.145': np.int64(37), '18.27': np.int64(38), '18.575': np.int64(39), '18.835': np.int64(40), '18.85': np.int64(41), '18.89': np.int64(42), '19.035': np.int64(43), '19.045': np.int64(44), '19.047': np.int64(45), '19.39': np.int64(46), '19.46': np.int64(47), '19.565': np.int64(48), '19.72': np.int64(49), '19.84': np.int64(50), '19.99': np.int64(51), '20.095': np.int64(52), '20.23': np.int64(53), '20.39': np.int64(54), '20.55': np.int64(55), '21.2': np.int64(56), '21.315': np.int64(57), '21.41': np.int64(58), '21.5': np.int64(59), '21.56': np.int64(60), '21.61': np.int64(61), '21.62': np.int64(62), '21.665': np.int64(63), '21.975': np.int64(64), '22.195': np.int64(65), '22.245': np.int64(66), '22.288': np.int64(67), '22.368': np.int64(68), '22.505': np.int64(69), '22.51': np.int64(70), '22.527': np.int64(71), '22.605': np.int64(72), '22.695': np.int64(73), '22.799': np.int64(74), '23.4': np.int64(75), '23.755': np.int64(76), '23.99': np.int64(77), '24.15': np.int64(78), '24.34': np.int64(79), '24.4': np.int64(80), '24.495': np.int64(81), '24.997': np.int64(82), '25.3': np.int64(83), '25.31': np.int64(84), '25.345': np.int64(85), '25.45': np.int64(86), '25.545': np.int64(87), '25.635': np.int64(88), '26': np.int64(89), '26.1': np.int64(90), '26.249': np.int64(91), '26.31': np.int64(92), '26.399': np.int64(93), '26.6': np.int64(94), '26.895': np.int64(95), '26.935': np.int64(96), '26.99': np.int64(97), '27.5': np.int64(98), '27.56': np.int64(99), '27.885': np.int64(100), '28.34': np.int64(101), '28.4': np.int64(102), '28.8': np.int64(103), '29.185': np.int64(104), '29.299': np.int64(105), '29.465': np.int64(106), '31.01': np.int64(107), '31.505': np.int64(108), '31.598': np.int64(109), '31.75': np.int64(110), '31.807': np.int64(111), '31.93': np.int64(112), '31.965': np.int64(113), '33.12': np.int64(114), '33.4': np.int64(115), '33.95': np.int64(116), '34.605': np.int64(117), '35.3': np.int64(118), '36': np.int64(119), '36.135': np.int64(120), '36.229': np.int64(121), '37.805': np.int64(122), '38.9': np.int64(123), '39.08': np.int64(124), '39.665': np.int64(125), '39.895': np.int64(126), '41': np.int64(127), '41.43': np.int64(128), '41.6': np.int64(129), '42': np.int64(130), '42.66': np.int64(131), '42.8': np.int64(132), '43': np.int64(133), '43.33': np.int64(134), '44.475': np.int64(135), '45.5': np.int64(136), '45.705': np.int64(137), '46.225': np.int64(138), '46.305': np.int64(139), '49.9': np.int64(140), '51.728': np.int64(141), '54.005': np.int64(142), '60.105': np.int64(143), '62': np.int64(144), '69.7': np.int64(145), '69.725': np.int64(146), '71.02': np.int64(147), '74.97': np.int64(148), '82.6': np.int64(149), '85.5': np.int64(150), '9.235': np.int64(151), '9.699': np.int64(152)}\n",
      "\n",
      "Mapping for Engine size:\n",
      "{'.': np.int64(0), '1': np.int64(1), '1.5': np.int64(2), '1.6': np.int64(3), '1.8': np.int64(4), '1.9': np.int64(5), '2': np.int64(6), '2.2': np.int64(7), '2.3': np.int64(8), '2.4': np.int64(9), '2.5': np.int64(10), '2.7': np.int64(11), '2.8': np.int64(12), '2.9': np.int64(13), '3': np.int64(14), '3.1': np.int64(15), '3.2': np.int64(16), '3.3': np.int64(17), '3.4': np.int64(18), '3.5': np.int64(19), '3.8': np.int64(20), '3.9': np.int64(21), '4': np.int64(22), '4.2': np.int64(23), '4.3': np.int64(24), '4.6': np.int64(25), '4.7': np.int64(26), '5': np.int64(27), '5.2': np.int64(28), '5.4': np.int64(29), '5.7': np.int64(30), '8': np.int64(31)}\n",
      "\n",
      "Mapping for Horsepower:\n",
      "{'.': np.int64(0), '100': np.int64(1), '106': np.int64(2), '107': np.int64(3), '110': np.int64(4), '113': np.int64(5), '115': np.int64(6), '119': np.int64(7), '120': np.int64(8), '124': np.int64(9), '125': np.int64(10), '126': np.int64(11), '127': np.int64(12), '132': np.int64(13), '133': np.int64(14), '135': np.int64(15), '137': np.int64(16), '140': np.int64(17), '142': np.int64(18), '145': np.int64(19), '146': np.int64(20), '148': np.int64(21), '150': np.int64(22), '153': np.int64(23), '154': np.int64(24), '155': np.int64(25), '160': np.int64(26), '161': np.int64(27), '163': np.int64(28), '165': np.int64(29), '168': np.int64(30), '170': np.int64(31), '173': np.int64(32), '175': np.int64(33), '180': np.int64(34), '185': np.int64(35), '190': np.int64(36), '193': np.int64(37), '194': np.int64(38), '195': np.int64(39), '200': np.int64(40), '201': np.int64(41), '202': np.int64(42), '205': np.int64(43), '210': np.int64(44), '215': np.int64(45), '217': np.int64(46), '220': np.int64(47), '221': np.int64(48), '222': np.int64(49), '225': np.int64(50), '227': np.int64(51), '230': np.int64(52), '236': np.int64(53), '240': np.int64(54), '250': np.int64(55), '253': np.int64(56), '255': np.int64(57), '275': np.int64(58), '290': np.int64(59), '300': np.int64(60), '302': np.int64(61), '310': np.int64(62), '345': np.int64(63), '450': np.int64(64), '55': np.int64(65), '92': np.int64(66)}\n",
      "\n",
      "Mapping for Wheelbase:\n",
      "{'.': np.int64(0), '100.4': np.int64(1), '100.5': np.int64(2), '100.8': np.int64(3), '101.1': np.int64(4), '101.2': np.int64(5), '101.3': np.int64(6), '101.4': np.int64(7), '102.4': np.int64(8), '102.6': np.int64(9), '103': np.int64(10), '103.1': np.int64(11), '103.2': np.int64(12), '103.3': np.int64(13), '103.5': np.int64(14), '103.7': np.int64(15), '104.1': np.int64(16), '104.3': np.int64(17), '104.5': np.int64(18), '104.9': np.int64(19), '105': np.int64(20), '105.1': np.int64(21), '105.2': np.int64(22), '105.3': np.int64(23), '105.9': np.int64(24), '106': np.int64(25), '106.3': np.int64(26), '106.4': np.int64(27), '106.5': np.int64(28), '106.9': np.int64(29), '107': np.int64(30), '107.1': np.int64(31), '107.3': np.int64(32), '107.4': np.int64(33), '107.5': np.int64(34), '108': np.int64(35), '108.1': np.int64(36), '108.3': np.int64(37), '108.5': np.int64(38), '108.7': np.int64(39), '109': np.int64(40), '109.6': np.int64(41), '109.9': np.int64(42), '110.2': np.int64(43), '110.5': np.int64(44), '111': np.int64(45), '111.4': np.int64(46), '111.5': np.int64(47), '111.6': np.int64(48), '112.2': np.int64(49), '113': np.int64(50), '113.3': np.int64(51), '113.6': np.int64(52), '113.8': np.int64(53), '114.2': np.int64(54), '114.5': np.int64(55), '114.6': np.int64(56), '114.7': np.int64(57), '115.3': np.int64(58), '115.7': np.int64(59), '116.1': np.int64(60), '117.5': np.int64(61), '117.7': np.int64(62), '118.1': np.int64(63), '119': np.int64(64), '120': np.int64(65), '120.7': np.int64(66), '121.5': np.int64(67), '127.2': np.int64(68), '131': np.int64(69), '138.5': np.int64(70), '138.7': np.int64(71), '92.6': np.int64(72), '93.1': np.int64(73), '93.4': np.int64(74), '94.5': np.int64(75), '94.9': np.int64(76), '95.2': np.int64(77), '96.1': np.int64(78), '96.2': np.int64(79), '97': np.int64(80), '97.1': np.int64(81), '97.2': np.int64(82), '97.4': np.int64(83), '98.4': np.int64(84), '98.9': np.int64(85), '99': np.int64(86), '99.4': np.int64(87), '99.8': np.int64(88)}\n",
      "\n",
      "Mapping for Width:\n",
      "{'.': np.int64(0), '62.6': np.int64(1), '65.7': np.int64(2), '66.4': np.int64(3), '66.5': np.int64(4), '66.7': np.int64(5), '66.9': np.int64(6), '67': np.int64(7), '67.1': np.int64(8), '67.3': np.int64(9), '67.4': np.int64(10), '67.5': np.int64(11), '67.6': np.int64(12), '67.7': np.int64(13), '67.8': np.int64(14), '67.9': np.int64(15), '68.2': np.int64(16), '68.3': np.int64(17), '68.4': np.int64(18), '68.5': np.int64(19), '68.9': np.int64(20), '69': np.int64(21), '69.1': np.int64(22), '69.2': np.int64(23), '69.3': np.int64(24), '69.4': np.int64(25), '69.5': np.int64(26), '69.6': np.int64(27), '69.7': np.int64(28), '69.9': np.int64(29), '70.1': np.int64(30), '70.2': np.int64(31), '70.3': np.int64(32), '70.4': np.int64(33), '70.5': np.int64(34), '70.6': np.int64(35), '70.8': np.int64(36), '70.9': np.int64(37), '71': np.int64(38), '71.3': np.int64(39), '71.4': np.int64(40), '71.5': np.int64(41), '71.6': np.int64(42), '71.7': np.int64(43), '72': np.int64(44), '72.1': np.int64(45), '72.2': np.int64(46), '72.3': np.int64(47), '72.4': np.int64(48), '72.5': np.int64(49), '72.6': np.int64(50), '72.7': np.int64(51), '73': np.int64(52), '73.1': np.int64(53), '73.4': np.int64(54), '73.5': np.int64(55), '73.6': np.int64(56), '74': np.int64(57), '74.1': np.int64(58), '74.4': np.int64(59), '74.5': np.int64(60), '74.7': np.int64(61), '74.9': np.int64(62), '75': np.int64(63), '75.5': np.int64(64), '75.6': np.int64(65), '75.7': np.int64(66), '76.1': np.int64(67), '76.3': np.int64(68), '76.4': np.int64(69), '76.6': np.int64(70), '76.8': np.int64(71), '77': np.int64(72), '78.2': np.int64(73), '78.7': np.int64(74), '78.8': np.int64(75), '79.1': np.int64(76), '79.3': np.int64(77), '79.9': np.int64(78)}\n",
      "\n",
      "Mapping for Curb weight:\n",
      "{'.': np.int64(0), '1.895': np.int64(1), '2.24': np.int64(2), '2.25': np.int64(3), '2.332': np.int64(4), '2.339': np.int64(5), '2.367': np.int64(6), '2.398': np.int64(7), '2.42': np.int64(8), '2.425': np.int64(9), '2.452': np.int64(10), '2.468': np.int64(11), '2.559': np.int64(12), '2.564': np.int64(13), '2.567': np.int64(14), '2.58': np.int64(15), '2.593': np.int64(16), '2.626': np.int64(17), '2.639': np.int64(18), '2.668': np.int64(19), '2.676': np.int64(20), '2.762': np.int64(21), '2.767': np.int64(22), '2.769': np.int64(23), '2.778': np.int64(24), '2.85': np.int64(25), '2.853': np.int64(26), '2.879': np.int64(27), '2.892': np.int64(28), '2.906': np.int64(29), '2.91': np.int64(30), '2.911': np.int64(31), '2.932': np.int64(32), '2.942': np.int64(33), '2.945': np.int64(34), '2.958': np.int64(35), '2.967': np.int64(36), '2.975': np.int64(37), '2.99': np.int64(38), '2.998': np.int64(39), '3.012': np.int64(40), '3.032': np.int64(41), '3.042': np.int64(42), '3.043': np.int64(43), '3.045': np.int64(44), '3.051': np.int64(45), '3.055': np.int64(46), '3.058': np.int64(47), '3.072': np.int64(48), '3.075': np.int64(49), '3.079': np.int64(50), '3.086': np.int64(51), '3.091': np.int64(52), '3.102': np.int64(53), '3.125': np.int64(54), '3.131': np.int64(55), '3.179': np.int64(56), '3.194': np.int64(57), '3.197': np.int64(58), '3.203': np.int64(59), '3.208': np.int64(60), '3.21': np.int64(61), '3.213': np.int64(62), '3.217': np.int64(63), '3.219': np.int64(64), '3.25': np.int64(65), '3.259': np.int64(66), '3.28': np.int64(67), '3.294': np.int64(68), '3.33': np.int64(69), '3.332': np.int64(70), '3.34': np.int64(71), '3.342': np.int64(72), '3.368': np.int64(73), '3.373': np.int64(74), '3.375': np.int64(75), '3.379': np.int64(76), '3.389': np.int64(77), '3.396': np.int64(78), '3.415': np.int64(79), '3.417': np.int64(80), '3.44': np.int64(81), '3.443': np.int64(82), '3.452': np.int64(83), '3.455': np.int64(84), '3.47': np.int64(85), '3.472': np.int64(86), '3.489': np.int64(87), '3.492': np.int64(88), '3.5': np.int64(89), '3.51': np.int64(90), '3.517': np.int64(91), '3.528': np.int64(92), '3.533': np.int64(93), '3.543': np.int64(94), '3.557': np.int64(95), '3.561': np.int64(96), '3.564': np.int64(97), '3.567': np.int64(98), '3.59': np.int64(99), '3.591': np.int64(100), '3.6': np.int64(101), '3.601': np.int64(102), '3.638': np.int64(103), '3.65': np.int64(104), '3.693': np.int64(105), '3.759': np.int64(106), '3.761': np.int64(107), '3.77': np.int64(108), '3.778': np.int64(109), '3.821': np.int64(110), '3.823': np.int64(111), '3.843': np.int64(112), '3.85': np.int64(113), '3.857': np.int64(114), '3.868': np.int64(115), '3.876': np.int64(116), '3.88': np.int64(117), '3.89': np.int64(118), '3.9': np.int64(119), '3.902': np.int64(120), '3.908': np.int64(121), '3.942': np.int64(122), '3.944': np.int64(123), '3.947': np.int64(124), '3.948': np.int64(125), '3.958': np.int64(126), '3.967': np.int64(127), '3.978': np.int64(128), '3.991': np.int64(129), '4.068': np.int64(130), '4.115': np.int64(131), '4.121': np.int64(132), '4.125': np.int64(133), '4.133': np.int64(134), '4.241': np.int64(135), '4.245': np.int64(136), '4.288': np.int64(137), '4.298': np.int64(138), '4.387': np.int64(139), '4.394': np.int64(140), '4.47': np.int64(141), '4.52': np.int64(142), '4.808': np.int64(143), '5.115': np.int64(144), '5.393': np.int64(145), '5.401': np.int64(146), '5.572': np.int64(147)}\n",
      "\n",
      "Mapping for Fuel capacity:\n",
      "{'.': np.int64(0), '10.3': np.int64(1), '11.9': np.int64(2), '12': np.int64(3), '12.1': np.int64(4), '12.5': np.int64(5), '12.7': np.int64(6), '13.1': np.int64(7), '13.2': np.int64(8), '13.7': np.int64(9), '14': np.int64(10), '14.3': np.int64(11), '14.5': np.int64(12), '14.6': np.int64(13), '15': np.int64(14), '15.1': np.int64(15), '15.2': np.int64(16), '15.3': np.int64(17), '15.7': np.int64(18), '15.8': np.int64(19), '15.9': np.int64(20), '16': np.int64(21), '16.3': np.int64(22), '16.4': np.int64(23), '16.6': np.int64(24), '16.8': np.int64(25), '16.9': np.int64(26), '17': np.int64(27), '17.1': np.int64(28), '17.2': np.int64(29), '17.5': np.int64(30), '17.9': np.int64(31), '18': np.int64(32), '18.4': np.int64(33), '18.5': np.int64(34), '19': np.int64(35), '19.1': np.int64(36), '19.4': np.int64(37), '19.5': np.int64(38), '19.8': np.int64(39), '20': np.int64(40), '20.5': np.int64(41), '20.9': np.int64(42), '21': np.int64(43), '21.1': np.int64(44), '22': np.int64(45), '22.5': np.int64(46), '23.2': np.int64(47), '23.7': np.int64(48), '24.3': np.int64(49), '25': np.int64(50), '25.1': np.int64(51), '25.4': np.int64(52), '26': np.int64(53), '30': np.int64(54), '32': np.int64(55)}\n",
      "\n",
      "Mapping for Fuel efficiency:\n",
      "{'.': np.int64(0), '15': np.int64(1), '16': np.int64(2), '17': np.int64(3), '18': np.int64(4), '19': np.int64(5), '20': np.int64(6), '21': np.int64(7), '22': np.int64(8), '23': np.int64(9), '24': np.int64(10), '25': np.int64(11), '26': np.int64(12), '27': np.int64(13), '28': np.int64(14), '29': np.int64(15), '30': np.int64(16), '31': np.int64(17), '32': np.int64(18), '33': np.int64(19), '45': np.int64(20)}\n",
      "\n",
      "Mapping for Latest Launch:\n",
      "{'1-Apr-14': np.int64(0), '1-Jun-14': np.int64(1), '10-Aug-15': np.int64(2), '10-Jun-15': np.int64(3), '10-May-14': np.int64(4), '10-Sep-14': np.int64(5), '11-Feb-15': np.int64(6), '11-Mar-14': np.int64(7), '11-Sep-14': np.int64(8), '12-Apr-14': np.int64(9), '12-Dec-15': np.int64(10), '12-Oct-15': np.int64(11), '13-Apr-14': np.int64(12), '13-Feb-08': np.int64(13), '13-Jul-15': np.int64(14), '13-Jun-15': np.int64(15), '14-Jan-14': np.int64(16), '14-Jun-14': np.int64(17), '14-Nov-15': np.int64(18), '14-Sep-14': np.int64(19), '15-Apr-14': np.int64(20), '15-Jan-15': np.int64(21), '15-Nov-15': np.int64(22), '15-Oct-14': np.int64(23), '16-Aug-14': np.int64(24), '16-Jan-14': np.int64(25), '16-Jan-15': np.int64(26), '16-Jun-14': np.int64(27), '16-Mar-15': np.int64(28), '17-Apr-14': np.int64(29), '17-Aug-15': np.int64(30), '17-Jan-14': np.int64(31), '17-Mar-15': np.int64(32), '17-Nov-15': np.int64(33), '18-Feb-15': np.int64(34), '18-Jun-15': np.int64(35), '18-May-14': np.int64(36), '18-May-15': np.int64(37), '19-Dec-14': np.int64(38), '19-Feb-14': np.int64(39), '19-Mar-14': np.int64(40), '2-Aug-14': np.int64(41), '2-Feb-14': np.int64(42), '2-Oct-14': np.int64(43), '2-Oct-15': np.int64(44), '20-Aug-14': np.int64(45), '20-Dec-15': np.int64(46), '20-May-14': np.int64(47), '20-Oct-09': np.int64(48), '20-Oct-15': np.int64(49), '21-Dec-14': np.int64(50), '21-Mar-14': np.int64(51), '21-Oct-15': np.int64(52), '21-Sep-15': np.int64(53), '22-Dec-15': np.int64(54), '22-Jul-14': np.int64(55), '22-Sep-14': np.int64(56), '23-Apr-14': np.int64(57), '23-Dec-14': np.int64(58), '23-Feb-14': np.int64(59), '23-Jul-15': np.int64(60), '23-Mar-14': np.int64(61), '23-Oct-15': np.int64(62), '24-Apr-15': np.int64(63), '24-Jan-15': np.int64(64), '24-Jul-14': np.int64(65), '24-May-15': np.int64(66), '24-Nov-14': np.int64(67), '25-Apr-14': np.int64(68), '25-Feb-14': np.int64(69), '25-Jan-14': np.int64(70), '25-Jun-15': np.int64(71), '25-Nov-15': np.int64(72), '25-Sep-15': np.int64(73), '26-Apr-15': np.int64(74), '26-Jul-14': np.int64(75), '26-Nov-14': np.int64(76), '26-Sep-15': np.int64(77), '27-Aug-15': np.int64(78), '27-Feb-14': np.int64(79), '27-Jun-14': np.int64(80), '27-Nov-15': np.int64(81), '28-Aug-14': np.int64(82), '28-Jun-15': np.int64(83), '28-Nov-14': np.int64(84), '28-Sep-15': np.int64(85), '29-Apr-15': np.int64(86), '29-Dec-14': np.int64(87), '29-Jan-14': np.int64(88), '29-Jun-14': np.int64(89), '29-Mar-14': np.int64(90), '3-Apr-14': np.int64(91), '3-Jul-15': np.int64(92), '3-Jun-14': np.int64(93), '3-Oct-15': np.int64(94), '30-Oct-14': np.int64(95), '31-Aug-15': np.int64(96), '31-Jan-14': np.int64(97), '31-Mar-14': np.int64(98), '31-May-15': np.int64(99), '31-Oct-15': np.int64(100), '4-Apr-15': np.int64(101), '4-Jan-15': np.int64(102), '4-Nov-15': np.int64(103), '5-Aug-14': np.int64(104), '5-Dec-14': np.int64(105), '5-Jun-15': np.int64(106), '5-Oct-14': np.int64(107), '6-Apr-14': np.int64(108), '6-Dec-15': np.int64(109), '6-Feb-14': np.int64(110), '6-Jun-14': np.int64(111), '6-Mar-15': np.int64(112), '7-Aug-15': np.int64(113), '7-Dec-15': np.int64(114), '7-Jan-14': np.int64(115), '7-Jul-15': np.int64(116), '7-Nov-15': np.int64(117), '7-Sep-14': np.int64(118), '8-Feb-15': np.int64(119), '8-Jan-15': np.int64(120), '8-Jul-15': np.int64(121), '8-Jun-15': np.int64(122), '8-Mar-14': np.int64(123), '8-May-15': np.int64(124), '8-Sep-15': np.int64(125), '9-Jan-15': np.int64(126), '9-Mar-15': np.int64(127), '9-Nov-15': np.int64(128), '9-Oct-14': np.int64(129)}\n"
     ]
    }
   ],
   "source": [
    "import pandas as pd  \n",
    "from sklearn.preprocessing import LabelEncoder  \n",
    "\n",
    "# Load dataset (Make sure 'df' is already defined)\n",
    "# df = pd.read_csv('car_sales.csv')  # Uncomment if needed\n",
    "\n",
    "# Identify the column related to 'sales' (case insensitive)\n",
    "sales_column = [col for col in df.columns if 'sales' in col.lower()]  \n",
    "\n",
    "# If no sales column is found, raise an error\n",
    "if not sales_column:  \n",
    "    raise KeyError(\"No column related to 'sales' found in the dataset. Please check the column names.\")  \n",
    "\n",
    "# Select the first matching sales column\n",
    "sales_column_name = sales_column[0]  \n",
    "print(f\"Using column '{sales_column_name}' as the sales column.\")  \n",
    "\n",
    "# Separate the target variable (y) and input features (X)\n",
    "y = df[sales_column_name]  \n",
    "X = df.drop(columns=[sales_column_name])  \n",
    "\n",
    "# Identify categorical columns (object or category type)\n",
    "categorical_columns = X.select_dtypes(include=['object', 'category']).columns  \n",
    "\n",
    "# Dictionary to store label encoders for each categorical column\n",
    "label_encoders = {}  \n",
    "\n",
    "# Encode categorical variables using LabelEncoder\n",
    "for col in categorical_columns:  \n",
    "    le = LabelEncoder()  # Create a LabelEncoder instance\n",
    "    X[col] = le.fit_transform(X[col])  # Transform the column into numerical values\n",
    "    label_encoders[col] = le  # Store the encoder for reference  \n",
    "\n",
    "# Print dataset dimensions after encoding\n",
    "print(\"\\nShape of X (input features):\", X.shape)  \n",
    "print(\"Shape of y (target variable):\", y.shape)  \n",
    "\n",
    "# Display first few rows of transformed X and y\n",
    "print(\"\\nInput (X) with encoded categorical variables:\")  \n",
    "print(X.head())  \n",
    "\n",
    "print(\"\\nOutput (y):\")  \n",
    "print(y.head())  \n",
    "\n",
    "# Display the mapping of categorical values to numeric labels\n",
    "for col in categorical_columns:  \n",
    "    print(f\"\\nMapping for {col}:\")  \n",
    "    print(dict(zip(label_encoders[col].classes_, label_encoders[col].transform(label_encoders[col].classes_))))\n"
   ]
  },
  {
   "cell_type": "code",
   "execution_count": 18,
   "metadata": {},
   "outputs": [
    {
     "name": "stdout",
     "output_type": "stream",
     "text": [
      "Encoded values: [2 1 0 2 0]\n",
      "Decoded values: ['Toyota' 'Honda' 'Ford' 'Toyota' 'Ford']\n"
     ]
    }
   ],
   "source": [
    "# why label encodeing is neccesery look this it groups the simialr valued sone as the same \n",
    "\n",
    "from sklearn.preprocessing import LabelEncoder\n",
    "\n",
    "# Sample data\n",
    "cars = ['Toyota', 'Honda', 'Ford', 'Toyota', 'Ford']\n",
    "\n",
    "# Create and fit LabelEncoder\n",
    "le = LabelEncoder()\n",
    "encoded_cars = le.fit_transform(cars)\n",
    "\n",
    "# Print encoded values\n",
    "print(\"Encoded values:\", encoded_cars)\n",
    "\n",
    "# Decode back to original labels\n",
    "decoded_cars = le.inverse_transform(encoded_cars) # if i give the tranfrmedd code it will give bach the my code that i have encoded\n",
    "print(\"Decoded values:\", decoded_cars)\n"
   ]
  },
  {
   "cell_type": "markdown",
   "metadata": {},
   "source": [
    "Step-by-Step Explanation with Example\n",
    "\n",
    "1️⃣ Suppose We Have This Data:\n",
    "cars = ['Toyota', 'Honda', 'Ford', 'Toyota', 'Ford']\n",
    "We want to convert these text labels into numbers using LabelEncoder.\n",
    "\n",
    "2️⃣ Encode the Data\n",
    "\n",
    "\n",
    "\n",
    "\n",
    "from sklearn.preprocessing import LabelEncoder\n",
    "\n",
    "le = LabelEncoder()  \n",
    "encoded_cars = le.fit_transform(cars)  \n",
    "\n",
    "print(\"Encoded values:\", encoded_cars)\n",
    "\n",
    "\n",
    "Encoded values: [2 1 0 2 0]\n",
    "This means:\n",
    "\n",
    "Ford → 0\n",
    "Honda → 1\n",
    "Toyota → 2\n",
    "\n",
    "\n",
    "\n",
    "\n",
    "3️⃣ Understanding the Mapping Code\n",
    "\n",
    "\n",
    "print(dict(zip(le.classes_, le.transform(le.classes_))))\n",
    "This pairs each original label with its encoded value:\n",
    "\n",
    "##### le.classes_ → ['Ford', 'Honda', 'Toyota'] (Sorted alphabetically by default)\n",
    "##### le.transform(le.classes_) → [0, 1, 2] (Their corresponding numbers)\n",
    "\n",
    "Output: \n",
    "\n",
    "\n",
    "\n",
    "{'Ford': 0, 'Honda': 1, 'Toyota': 2}\n",
    "This tells us:\n",
    "\n",
    "Ford → 0\n",
    "Honda → 1\n",
    "Toyota → 2\n",
    "How This Relates to Your Code\n",
    "Your original code does the same thing but for all categorical columns in X:\n",
    "\n",
    "for col in categorical_columns:  \n",
    "    print(f\"\\nMapping for {col}:\")  \n",
    "    print(dict(zip(label_encoders[col].classes_,  \n",
    "                   label_encoders[col].transform(label_encoders[col].classes_))))\n",
    "🔹 It prints the mappings for each categorical column."
   ]
  },
  {
   "cell_type": "code",
   "execution_count": 19,
   "metadata": {},
   "outputs": [
    {
     "name": "stdout",
     "output_type": "stream",
     "text": [
      "Available columns: Index(['Manufacturer', 'Model', 'Sales in thousands', '4-year resale value',\n",
      "       'Vehicle type', 'Price in thousands', 'Engine size', 'Horsepower',\n",
      "       'Wheelbase', 'Width', 'Length', 'Curb weight', 'Fuel capacity',\n",
      "       'Fuel efficiency', 'Latest Launch'],\n",
      "      dtype='object')\n",
      "Manufacturer           0\n",
      "Model                  0\n",
      "Sales in thousands     0\n",
      "4-year resale value    0\n",
      "Price in thousands     0\n",
      "Engine size            0\n",
      "Horsepower             0\n",
      "Wheelbase              0\n",
      "Width                  0\n",
      "Length                 1\n",
      "Curb weight            0\n",
      "Fuel capacity          0\n",
      "Fuel efficiency        0\n",
      "Latest Launch          0\n",
      "Vehicle_Passenger      0\n",
      "dtype: int64\n"
     ]
    }
   ],
   "source": [
    "# Encode categorical variable vehicle type using one-hot Encoder (used to eccode the catogorical data to the numerical data)\n",
    "# df = pd.read_csv('Car_sales.csv')\n",
    "df.columns = df.columns.str.strip() \n",
    "print(\"Available columns:\", df.columns)\n",
    "\n",
    "if 'Vehicle type' in df.columns:\n",
    "  df = pd.get_dummies(df, columns=['Vehicle type'],prefix='Vehicle', drop_first=True)   # drop_first=True drops one column \n",
    "  print(df.isna().sum())\n",
    "\n",
    "else:\n",
    "  print(\"Error: 'Vehicle type' column not found in the dataset.\")"
   ]
  },
  {
   "cell_type": "code",
   "execution_count": 20,
   "metadata": {},
   "outputs": [
    {
     "name": "stdout",
     "output_type": "stream",
     "text": [
      "Training set shape: (109, 14) (109,)\n",
      "Test set shape: (48, 14) (48,)\n"
     ]
    }
   ],
   "source": [
    "# Split the Dataset into Train (70%) and Test (10%)\n",
    "\n",
    "import pandas as pd\n",
    "from sklearn.model_selection import train_test_split\n",
    "df = pd.read_csv('Car_sales.csv')\n",
    "df.columns = df.columns.str.strip() \n",
    "\n",
    "X =  df.drop(columns=['Sales in thousands'])\n",
    "y = df['Sales in thousands']\n",
    "\n",
    "X_train, X_test, y_train, y_test = train_test_split(X, y, test_size=0.3, random_state=42) # random state is to maintain the consistancy in data\n",
    "\n",
    "print(\"Training set shape:\", X_train.shape, y_train.shape) \n",
    "print(\"Test set shape:\", X_test.shape, y_test.shape)"
   ]
  },
  {
   "cell_type": "code",
   "execution_count": 21,
   "metadata": {},
   "outputs": [
    {
     "data": {
      "text/plain": [
       "<Figure size 576x216 with 0 Axes>"
      ]
     },
     "execution_count": 21,
     "metadata": {},
     "output_type": "execute_result"
    },
    {
     "data": {
      "text/plain": [
       "<Figure size 576x216 with 0 Axes>"
      ]
     },
     "metadata": {},
     "output_type": "display_data"
    }
   ],
   "source": [
    "# Data visualization with Seaborn Pairplot\n",
    "# automatically selects numerical columns \n",
    "# It creates scatter plots for every pair of numerical columns. \n",
    "# It plots histograms (or KDE plots) on the diagonal to show  individual distributions.\n",
    "\n",
    "import pandas as pd\n",
    "import seaborn as sns\n",
    "import matplotlib.pyplot as plt\n",
    "\n",
    "df =pd.read_csv('Car_sales.csv')\n",
    "df.columns = df.columns.str.lower() # ..str.split() also we can se\n",
    "\n",
    "plt.figure(figsize=(8,3))\n",
    "# sns.pairplot(df)\n",
    "# sns.pairplot(df, height=6, aspect=1.5) \n",
    "# sns.scatterplot(x=df[\"manufacturer\"], y=df[\"sales in thousands\"])\n",
    "# plt.xticks(rotation=45)  # Rotates X-axis labels by 45 degrees\n",
    "\n",
    "# df.head()\n",
    "\n",
    "# plt.show()\n",
    "\n",
    "\n",
    "# df.info()"
   ]
  },
  {
   "cell_type": "code",
   "execution_count": 22,
   "metadata": {},
   "outputs": [
    {
     "ename": "FileNotFoundError",
     "evalue": "[Errno 2] No such file or directory: 'car_sales.csv'",
     "output_type": "error",
     "traceback": [
      "\u001b[0;31m---------------------------------------------------------------------------\u001b[0m",
      "\u001b[0;31mFileNotFoundError\u001b[0m                         Traceback (most recent call last)",
      "\u001b[0;32m/tmp/ipykernel_9797/826127026.py\u001b[0m in \u001b[0;36m<module>\u001b[0;34m\u001b[0m\n\u001b[1;32m      4\u001b[0m \u001b[0;32mimport\u001b[0m \u001b[0mseaborn\u001b[0m \u001b[0;32mas\u001b[0m \u001b[0msns\u001b[0m\u001b[0;34m\u001b[0m\u001b[0;34m\u001b[0m\u001b[0m\n\u001b[1;32m      5\u001b[0m \u001b[0;34m\u001b[0m\u001b[0m\n\u001b[0;32m----> 6\u001b[0;31m \u001b[0mdf\u001b[0m \u001b[0;34m=\u001b[0m \u001b[0mpd\u001b[0m\u001b[0;34m.\u001b[0m\u001b[0mread_csv\u001b[0m\u001b[0;34m(\u001b[0m\u001b[0;34m\"car_sales.csv\"\u001b[0m\u001b[0;34m)\u001b[0m\u001b[0;34m\u001b[0m\u001b[0;34m\u001b[0m\u001b[0m\n\u001b[0m\u001b[1;32m      7\u001b[0m \u001b[0mdf\u001b[0m\u001b[0;34m.\u001b[0m\u001b[0mcolumns\u001b[0m \u001b[0;34m=\u001b[0m \u001b[0mdf\u001b[0m\u001b[0;34m.\u001b[0m\u001b[0mcolumns\u001b[0m\u001b[0;34m.\u001b[0m\u001b[0mstr\u001b[0m\u001b[0;34m.\u001b[0m\u001b[0mlower\u001b[0m\u001b[0;34m(\u001b[0m\u001b[0;34m)\u001b[0m\u001b[0;34m\u001b[0m\u001b[0;34m\u001b[0m\u001b[0m\n\u001b[1;32m      8\u001b[0m \u001b[0;34m\u001b[0m\u001b[0m\n",
      "\u001b[0;32m~/.local/lib/python3.10/site-packages/pandas/io/parsers/readers.py\u001b[0m in \u001b[0;36mread_csv\u001b[0;34m(filepath_or_buffer, sep, delimiter, header, names, index_col, usecols, dtype, engine, converters, true_values, false_values, skipinitialspace, skiprows, skipfooter, nrows, na_values, keep_default_na, na_filter, verbose, skip_blank_lines, parse_dates, infer_datetime_format, keep_date_col, date_parser, date_format, dayfirst, cache_dates, iterator, chunksize, compression, thousands, decimal, lineterminator, quotechar, quoting, doublequote, escapechar, comment, encoding, encoding_errors, dialect, on_bad_lines, delim_whitespace, low_memory, memory_map, float_precision, storage_options, dtype_backend)\u001b[0m\n\u001b[1;32m   1024\u001b[0m     \u001b[0mkwds\u001b[0m\u001b[0;34m.\u001b[0m\u001b[0mupdate\u001b[0m\u001b[0;34m(\u001b[0m\u001b[0mkwds_defaults\u001b[0m\u001b[0;34m)\u001b[0m\u001b[0;34m\u001b[0m\u001b[0;34m\u001b[0m\u001b[0m\n\u001b[1;32m   1025\u001b[0m \u001b[0;34m\u001b[0m\u001b[0m\n\u001b[0;32m-> 1026\u001b[0;31m     \u001b[0;32mreturn\u001b[0m \u001b[0m_read\u001b[0m\u001b[0;34m(\u001b[0m\u001b[0mfilepath_or_buffer\u001b[0m\u001b[0;34m,\u001b[0m \u001b[0mkwds\u001b[0m\u001b[0;34m)\u001b[0m\u001b[0;34m\u001b[0m\u001b[0;34m\u001b[0m\u001b[0m\n\u001b[0m\u001b[1;32m   1027\u001b[0m \u001b[0;34m\u001b[0m\u001b[0m\n\u001b[1;32m   1028\u001b[0m \u001b[0;34m\u001b[0m\u001b[0m\n",
      "\u001b[0;32m~/.local/lib/python3.10/site-packages/pandas/io/parsers/readers.py\u001b[0m in \u001b[0;36m_read\u001b[0;34m(filepath_or_buffer, kwds)\u001b[0m\n\u001b[1;32m    618\u001b[0m \u001b[0;34m\u001b[0m\u001b[0m\n\u001b[1;32m    619\u001b[0m     \u001b[0;31m# Create the parser.\u001b[0m\u001b[0;34m\u001b[0m\u001b[0;34m\u001b[0m\u001b[0m\n\u001b[0;32m--> 620\u001b[0;31m     \u001b[0mparser\u001b[0m \u001b[0;34m=\u001b[0m \u001b[0mTextFileReader\u001b[0m\u001b[0;34m(\u001b[0m\u001b[0mfilepath_or_buffer\u001b[0m\u001b[0;34m,\u001b[0m \u001b[0;34m**\u001b[0m\u001b[0mkwds\u001b[0m\u001b[0;34m)\u001b[0m\u001b[0;34m\u001b[0m\u001b[0;34m\u001b[0m\u001b[0m\n\u001b[0m\u001b[1;32m    621\u001b[0m \u001b[0;34m\u001b[0m\u001b[0m\n\u001b[1;32m    622\u001b[0m     \u001b[0;32mif\u001b[0m \u001b[0mchunksize\u001b[0m \u001b[0;32mor\u001b[0m \u001b[0miterator\u001b[0m\u001b[0;34m:\u001b[0m\u001b[0;34m\u001b[0m\u001b[0;34m\u001b[0m\u001b[0m\n",
      "\u001b[0;32m~/.local/lib/python3.10/site-packages/pandas/io/parsers/readers.py\u001b[0m in \u001b[0;36m__init__\u001b[0;34m(self, f, engine, **kwds)\u001b[0m\n\u001b[1;32m   1618\u001b[0m \u001b[0;34m\u001b[0m\u001b[0m\n\u001b[1;32m   1619\u001b[0m         \u001b[0mself\u001b[0m\u001b[0;34m.\u001b[0m\u001b[0mhandles\u001b[0m\u001b[0;34m:\u001b[0m \u001b[0mIOHandles\u001b[0m \u001b[0;34m|\u001b[0m \u001b[0;32mNone\u001b[0m \u001b[0;34m=\u001b[0m \u001b[0;32mNone\u001b[0m\u001b[0;34m\u001b[0m\u001b[0;34m\u001b[0m\u001b[0m\n\u001b[0;32m-> 1620\u001b[0;31m         \u001b[0mself\u001b[0m\u001b[0;34m.\u001b[0m\u001b[0m_engine\u001b[0m \u001b[0;34m=\u001b[0m \u001b[0mself\u001b[0m\u001b[0;34m.\u001b[0m\u001b[0m_make_engine\u001b[0m\u001b[0;34m(\u001b[0m\u001b[0mf\u001b[0m\u001b[0;34m,\u001b[0m \u001b[0mself\u001b[0m\u001b[0;34m.\u001b[0m\u001b[0mengine\u001b[0m\u001b[0;34m)\u001b[0m\u001b[0;34m\u001b[0m\u001b[0;34m\u001b[0m\u001b[0m\n\u001b[0m\u001b[1;32m   1621\u001b[0m \u001b[0;34m\u001b[0m\u001b[0m\n\u001b[1;32m   1622\u001b[0m     \u001b[0;32mdef\u001b[0m \u001b[0mclose\u001b[0m\u001b[0;34m(\u001b[0m\u001b[0mself\u001b[0m\u001b[0;34m)\u001b[0m \u001b[0;34m->\u001b[0m \u001b[0;32mNone\u001b[0m\u001b[0;34m:\u001b[0m\u001b[0;34m\u001b[0m\u001b[0;34m\u001b[0m\u001b[0m\n",
      "\u001b[0;32m~/.local/lib/python3.10/site-packages/pandas/io/parsers/readers.py\u001b[0m in \u001b[0;36m_make_engine\u001b[0;34m(self, f, engine)\u001b[0m\n\u001b[1;32m   1878\u001b[0m                 \u001b[0;32mif\u001b[0m \u001b[0;34m\"b\"\u001b[0m \u001b[0;32mnot\u001b[0m \u001b[0;32min\u001b[0m \u001b[0mmode\u001b[0m\u001b[0;34m:\u001b[0m\u001b[0;34m\u001b[0m\u001b[0;34m\u001b[0m\u001b[0m\n\u001b[1;32m   1879\u001b[0m                     \u001b[0mmode\u001b[0m \u001b[0;34m+=\u001b[0m \u001b[0;34m\"b\"\u001b[0m\u001b[0;34m\u001b[0m\u001b[0;34m\u001b[0m\u001b[0m\n\u001b[0;32m-> 1880\u001b[0;31m             self.handles = get_handle(\n\u001b[0m\u001b[1;32m   1881\u001b[0m                 \u001b[0mf\u001b[0m\u001b[0;34m,\u001b[0m\u001b[0;34m\u001b[0m\u001b[0;34m\u001b[0m\u001b[0m\n\u001b[1;32m   1882\u001b[0m                 \u001b[0mmode\u001b[0m\u001b[0;34m,\u001b[0m\u001b[0;34m\u001b[0m\u001b[0;34m\u001b[0m\u001b[0m\n",
      "\u001b[0;32m~/.local/lib/python3.10/site-packages/pandas/io/common.py\u001b[0m in \u001b[0;36mget_handle\u001b[0;34m(path_or_buf, mode, encoding, compression, memory_map, is_text, errors, storage_options)\u001b[0m\n\u001b[1;32m    871\u001b[0m         \u001b[0;32mif\u001b[0m \u001b[0mioargs\u001b[0m\u001b[0;34m.\u001b[0m\u001b[0mencoding\u001b[0m \u001b[0;32mand\u001b[0m \u001b[0;34m\"b\"\u001b[0m \u001b[0;32mnot\u001b[0m \u001b[0;32min\u001b[0m \u001b[0mioargs\u001b[0m\u001b[0;34m.\u001b[0m\u001b[0mmode\u001b[0m\u001b[0;34m:\u001b[0m\u001b[0;34m\u001b[0m\u001b[0;34m\u001b[0m\u001b[0m\n\u001b[1;32m    872\u001b[0m             \u001b[0;31m# Encoding\u001b[0m\u001b[0;34m\u001b[0m\u001b[0;34m\u001b[0m\u001b[0m\n\u001b[0;32m--> 873\u001b[0;31m             handle = open(\n\u001b[0m\u001b[1;32m    874\u001b[0m                 \u001b[0mhandle\u001b[0m\u001b[0;34m,\u001b[0m\u001b[0;34m\u001b[0m\u001b[0;34m\u001b[0m\u001b[0m\n\u001b[1;32m    875\u001b[0m                 \u001b[0mioargs\u001b[0m\u001b[0;34m.\u001b[0m\u001b[0mmode\u001b[0m\u001b[0;34m,\u001b[0m\u001b[0;34m\u001b[0m\u001b[0;34m\u001b[0m\u001b[0m\n",
      "\u001b[0;31mFileNotFoundError\u001b[0m: [Errno 2] No such file or directory: 'car_sales.csv'"
     ]
    }
   ],
   "source": [
    "# Plot correlation of price and sales using scatterplot \n",
    "import pandas as pd\n",
    "import matplotlib.pyplot as plt\n",
    "import seaborn as sns\n",
    "\n",
    "df = pd.read_csv(\"car_sales.csv\") \n",
    "df.columns = df.columns.str.lower()\n",
    "\n",
    "price_col = next((col for col in df.columns if \"price\" in col), None) # next says it multiple cols match it took only the frist one and stops\n",
    "sales_col = next((col for col in df.columns if \"sales\" in col.lower()),None)\n",
    "\n",
    "if price_col and sales_col:\n",
    "  plt.figure(figsize=(8,5))\n",
    "  sns.scatterplot(x = df[price_col], y = df[sales_col])\n",
    "  plt.xlabel(price_col.capitalize())\n",
    "  plt.ylabel(sales_col.capitalize())\n",
    "  plt.title(\"Price vs Sales Scatter Plot\") \n",
    "  plt.xticks(rotation=45) \n",
    "  plt.show() \n",
    "else:\n",
    "  print(\"Error: Could not find 'price' and 'sales' columns.\")\n"
   ]
  },
  {
   "cell_type": "code",
   "execution_count": null,
   "metadata": {},
   "outputs": [
    {
     "data": {
      "text/html": [
       "<div>\n",
       "<style scoped>\n",
       "    .dataframe tbody tr th:only-of-type {\n",
       "        vertical-align: middle;\n",
       "    }\n",
       "\n",
       "    .dataframe tbody tr th {\n",
       "        vertical-align: top;\n",
       "    }\n",
       "\n",
       "    .dataframe thead th {\n",
       "        text-align: right;\n",
       "    }\n",
       "</style>\n",
       "<table border=\"1\" class=\"dataframe\">\n",
       "  <thead>\n",
       "    <tr style=\"text-align: right;\">\n",
       "      <th></th>\n",
       "      <th>manufacturer</th>\n",
       "      <th>model</th>\n",
       "      <th>sales in thousands</th>\n",
       "      <th>4-year resale value</th>\n",
       "      <th>vehicle type</th>\n",
       "      <th>price in thousands</th>\n",
       "      <th>engine size</th>\n",
       "      <th>horsepower</th>\n",
       "      <th>wheelbase</th>\n",
       "      <th>width</th>\n",
       "      <th>length</th>\n",
       "      <th>curb weight</th>\n",
       "      <th>fuel capacity</th>\n",
       "      <th>fuel efficiency</th>\n",
       "      <th>latest launch</th>\n",
       "    </tr>\n",
       "  </thead>\n",
       "  <tbody>\n",
       "    <tr>\n",
       "      <th>0</th>\n",
       "      <td>Acura</td>\n",
       "      <td>Integra</td>\n",
       "      <td>16.919</td>\n",
       "      <td>16.36</td>\n",
       "      <td>Passenger</td>\n",
       "      <td>21.5</td>\n",
       "      <td>1.8</td>\n",
       "      <td>140</td>\n",
       "      <td>101.2</td>\n",
       "      <td>67.3</td>\n",
       "      <td>172.4</td>\n",
       "      <td>2.639</td>\n",
       "      <td>13.2</td>\n",
       "      <td>28</td>\n",
       "      <td>2-Feb-14</td>\n",
       "    </tr>\n",
       "    <tr>\n",
       "      <th>1</th>\n",
       "      <td>Acura</td>\n",
       "      <td>TL</td>\n",
       "      <td>39.384</td>\n",
       "      <td>19.875</td>\n",
       "      <td>Passenger</td>\n",
       "      <td>28.4</td>\n",
       "      <td>3.2</td>\n",
       "      <td>225</td>\n",
       "      <td>108.1</td>\n",
       "      <td>70.3</td>\n",
       "      <td>192.9</td>\n",
       "      <td>3.517</td>\n",
       "      <td>17.2</td>\n",
       "      <td>25</td>\n",
       "      <td>6-Mar-15</td>\n",
       "    </tr>\n",
       "    <tr>\n",
       "      <th>2</th>\n",
       "      <td>Acura</td>\n",
       "      <td>CL</td>\n",
       "      <td>14.114</td>\n",
       "      <td>18.225</td>\n",
       "      <td>Passenger</td>\n",
       "      <td>.</td>\n",
       "      <td>3.2</td>\n",
       "      <td>225</td>\n",
       "      <td>106.9</td>\n",
       "      <td>70.6</td>\n",
       "      <td>192</td>\n",
       "      <td>3.47</td>\n",
       "      <td>17.2</td>\n",
       "      <td>26</td>\n",
       "      <td>1-Apr-14</td>\n",
       "    </tr>\n",
       "    <tr>\n",
       "      <th>3</th>\n",
       "      <td>Acura</td>\n",
       "      <td>RL</td>\n",
       "      <td>8.588</td>\n",
       "      <td>29.725</td>\n",
       "      <td>Passenger</td>\n",
       "      <td>42</td>\n",
       "      <td>3.5</td>\n",
       "      <td>210</td>\n",
       "      <td>114.6</td>\n",
       "      <td>71.4</td>\n",
       "      <td>196.6</td>\n",
       "      <td>3.85</td>\n",
       "      <td>18</td>\n",
       "      <td>22</td>\n",
       "      <td>3-Oct-15</td>\n",
       "    </tr>\n",
       "    <tr>\n",
       "      <th>4</th>\n",
       "      <td>Audi</td>\n",
       "      <td>A4</td>\n",
       "      <td>20.397</td>\n",
       "      <td>22.255</td>\n",
       "      <td>Passenger</td>\n",
       "      <td>23.99</td>\n",
       "      <td>1.8</td>\n",
       "      <td>150</td>\n",
       "      <td>102.6</td>\n",
       "      <td>68.2</td>\n",
       "      <td>178</td>\n",
       "      <td>2.998</td>\n",
       "      <td>16.4</td>\n",
       "      <td>27</td>\n",
       "      <td>10-Aug-15</td>\n",
       "    </tr>\n",
       "  </tbody>\n",
       "</table>\n",
       "</div>"
      ],
      "text/plain": [
       "    manufacturer              model  sales in thousands 4-year resale value  \\\n",
       "0  Acura          Integra                        16.919               16.36   \n",
       "1  Acura          TL                             39.384              19.875   \n",
       "2  Acura          CL                             14.114              18.225   \n",
       "3  Acura          RL                              8.588              29.725   \n",
       "4  Audi           A4                             20.397              22.255   \n",
       "\n",
       "  vehicle type price in thousands engine size horsepower wheelbase width  \\\n",
       "0    Passenger               21.5         1.8        140     101.2  67.3   \n",
       "1    Passenger               28.4         3.2        225     108.1  70.3   \n",
       "2    Passenger                  .         3.2        225     106.9  70.6   \n",
       "3    Passenger                 42         3.5        210     114.6  71.4   \n",
       "4    Passenger              23.99         1.8        150     102.6  68.2   \n",
       "\n",
       "  length curb weight fuel capacity fuel efficiency latest launch  \n",
       "0  172.4       2.639          13.2              28      2-Feb-14  \n",
       "1  192.9       3.517          17.2              25      6-Mar-15  \n",
       "2    192        3.47          17.2              26      1-Apr-14  \n",
       "3  196.6        3.85            18              22      3-Oct-15  \n",
       "4    178       2.998          16.4              27     10-Aug-15  "
      ]
     },
     "execution_count": 141,
     "metadata": {},
     "output_type": "execute_result"
    }
   ],
   "source": [
    "df.head()"
   ]
  },
  {
   "cell_type": "code",
   "execution_count": null,
   "metadata": {},
   "outputs": [
    {
     "data": {
      "image/png": "[encoded data removed]",
      "text/plain": [
       "<Figure size 800x500 with 1 Axes>"
      ]
     },
     "metadata": {},
     "output_type": "display_data"
    }
   ],
   "source": [
    "# Boxplot of sales of different manufacturer\n",
    "import pandas as pd \n",
    "import matplotlib.pyplot as plt \n",
    "import seaborn as sns\n",
    "\n",
    "# Sample dataset with 'manufacturer' and 'sales' columns \n",
    "data = { \n",
    "\"manufacturer\": [\"Toyota\", \"Ford\", \"BMW\", \"Toyota\", \"Ford\", \n",
    "\"BMW\", \"Toyota\", \"Ford\", \"BMW\"], \n",
    "\"sales\": [500, 450, 520, 600, 490, 580, 620, 470, 590] \n",
    "} \n",
    "\n",
    "# Create DataFrame \n",
    "df = pd.DataFrame(data) \n",
    "# Create a boxplot of sales by manufacturer \n",
    "plt.figure(figsize=(8, 5)) \n",
    "sns.boxplot(x=df[\"manufacturer\"], y=df[\"sales\"])\n",
    "\n",
    "# Customize labels \n",
    "plt.xlabel(\"Manufacturer\") \n",
    "\n",
    "plt.ylabel(\"Sales\") \n",
    "plt.title(\"Sales Distribution by Manufacturer\") \n",
    "plt.show()\n",
    "\n",
    "\n",
    "\n",
    "# grouped_df = df.groupby(by=\"manufacturer\")\n",
    "# for name, group in grouped_df:\n",
    "#     print(f\"Manufacturer: {name}\")\n",
    "#     print(group, \"\\n\")\n"
   ]
  },
  {
   "cell_type": "markdown",
   "metadata": {},
   "source": [
    "## correlation coefficient value of price and sales \n",
    "\n",
    "1️⃣ Covariance → Measures the direction of the relationship (positive or negative).\n",
    "\n",
    "2️⃣ Correlation → Measures both direction and strength on a standardized scale.\n",
    "\n",
    "🔹 In Pandas\n",
    "\n",
    "df.cov()  # Covariance matrix\n",
    "\n",
    "\n",
    "df.corr() # Correlation matrix\n",
    "\n",
    "\n",
    "\n",
    "\n",
    "\n",
    "## 📌 Covariance Formula\n",
    "\\[\n",
    "\\text{Cov}(X, Y) = \\frac{\\sum (X_i - \\bar{X}) (Y_i - \\bar{Y})}{n}\n",
    "\\]\n",
    "Where:  \n",
    "- \\(X_i, Y_i\\) → Individual data points  \n",
    "- \\(\\bar{X}, \\bar{Y}\\) → Mean of \\(X\\) and \\(Y\\)  \n",
    "- \\(n\\) → Number of observations  \n",
    "\n",
    "---\n",
    "\n",
    "## 📌 Correlation Formula\n",
    "\\[\n",
    "\\text{Correlation} = \\frac{\\text{Cov}(X, Y)}{\\sigma_X \\cdot \\sigma_Y}\n",
    "\\]\n",
    "Where:  \n",
    "- \\(\\sigma_X\\) → Standard deviation of \\(X\\)  \n",
    "- \\(\\sigma_Y\\) → Standard deviation of \\(Y\\)  \n",
    "- **Range**: \\(-1\\) to \\(+1\\)  \n",
    "  - \\(+1\\) → Perfect positive correlation  \n",
    "  - \\(0\\) → No correlation  \n",
    "  - \\(-1\\) → Perfect negative correlation  \n"
   ]
  },
  {
   "cell_type": "code",
   "execution_count": null,
   "metadata": {},
   "outputs": [],
   "source": [
    "# simple example \n",
    "import pandas as pd\n",
    "\n",
    "data = {'Study Hours': [1, 2, 3, 4, 5], 'Exam Scores': [50, 55, 65, 70, 80]}\n",
    "df = pd.DataFrame(data)\n",
    "\n",
    "# Covariance\n",
    "print(df.cov())  \n",
    "\n",
    "# Correlation\n",
    "print(df.corr())\n"
   ]
  },
  {
   "cell_type": "code",
   "execution_count": null,
   "metadata": {},
   "outputs": [
    {
     "name": "stdout",
     "output_type": "stream",
     "text": [
      "The correlation coefficient between price and sales is: -0.9514998746685429\n"
     ]
    }
   ],
   "source": [
    "import pandas as pd \n",
    "data = { \n",
    "\"price\": [20000, 25000, 30000, 35000, 40000, 45000, 50000], \n",
    "\"sales\": [250, 200, 150, 130, 120, 100, 90] \n",
    "} \n",
    "df = pd.DataFrame(data)\n",
    "\n",
    "correlation = df[\"price\"].corr(df[\"sales\"])\n",
    "print(f\"The correlation coefficient between price and sales is: {correlation}\")"
   ]
  },
  {
   "cell_type": "code",
   "execution_count": null,
   "metadata": {},
   "outputs": [
    {
     "data": {
      "text/plain": [
       "price    50000\n",
       "sales       90\n",
       "Name: 6, dtype: int64"
      ]
     },
     "execution_count": 17,
     "metadata": {},
     "output_type": "execute_result"
    }
   ],
   "source": [
    "# Sort and Find Most & Least Expensive Cars \n",
    "df.sort_values(by = \"price\")\n",
    "\n",
    "# Find the least expensive car\n",
    "df.iloc[0]\n",
    "\n",
    "# Find the most expensive car\n",
    "# df.iloc[df.shape[0]-1]\n",
    "df.iloc[-1]"
   ]
  },
  {
   "cell_type": "code",
   "execution_count": null,
   "metadata": {},
   "outputs": [],
   "source": [
    "# find min and max values of any  column\n",
    "\n",
    "# pd.to_numeric(df[column_name], errors='coerce'). This will automatically convert any non-numeric values to NaN\n",
    "\n"
   ]
  },
  {
   "cell_type": "code",
   "execution_count": null,
   "metadata": {},
   "outputs": [
    {
     "name": "stdout",
     "output_type": "stream",
     "text": [
      "Min Value of 'Sales in thousands': 0.11\n",
      "Max Value of 'Sales in thousands': 540.561\n"
     ]
    }
   ],
   "source": [
    "import pandas as pd \n",
    "def find_min_max(df, column_name):\n",
    "  if column_name in df.columns: # Clean the column: Convert to numeric and ignore errors (non-numeric values will be set as NaN)\n",
    "    df[column_name] = pd.to_numeric(df[column_name], errors='coerce') \n",
    "    min_value = df[column_name].min() \n",
    "    max_value = df[column_name].max()\n",
    "    if pd.isna(min_value) or pd.isna(max_value):\n",
    "      return None, f\"Error: Column '{column_name}' contains invalid or missing values.\"\n",
    "    return min_value, max_value\n",
    "  else: \n",
    "    return None, f\"Error: Column '{column_name}' not found in the DataFrame.\"\n",
    "\n",
    "\n",
    "df = pd.read_csv(\"car_sales.csv\") \n",
    "column_name = \"Sales in thousands\"\n",
    "min_value, max_value = find_min_max(df, column_name)\n",
    "\n",
    "if min_value is None: \n",
    "  print(max_value)  \n",
    "else: \n",
    "  print(f\"Min Value of '{column_name}': {min_value}\") \n",
    "  print(f\"Max Value of '{column_name}': {max_value}\")\n"
   ]
  },
  {
   "cell_type": "code",
   "execution_count": null,
   "metadata": {},
   "outputs": [
    {
     "data": {
      "image/png": "[encoded data removed]",
      "text/plain": [
       "<Figure size 1000x600 with 4 Axes>"
      ]
     },
     "metadata": {},
     "output_type": "display_data"
    }
   ],
   "source": [
    "# Plot Histograms for Multiple Continuous Variables\n",
    "import pandas as pd \n",
    "import matplotlib.pyplot as plt \n",
    "import seaborn as sns \n",
    "\n",
    "df = pd.read_csv(\"car_sales.csv\")\n",
    "\n",
    "columns = [\"Price in thousands\", \"Sales in thousands\", \"Horsepower\", \"Fuel efficiency\"]\n",
    "\n",
    "fig, axes = plt.subplots(2, 2, figsize=(10, 6))  # 2 rows and 2 columns\n",
    "\n",
    "for i, column in enumerate(columns):\n",
    "    # Determine row and column index for the subplot \n",
    "    ax = axes[i // 2, i % 2]  \n",
    "    # Plot histogram \n",
    "    sns.histplot(df[column], kde=True, ax=ax)  \n",
    "    ax.set_title(f\"Histogram of {column}\")  \n",
    "    ax.set_xlabel(column)  \n",
    "    ax.set_ylabel(\"Frequency\")  \n",
    "\n",
    "plt.tight_layout()  # Adjust layout to prevent overlap\n",
    "plt.show()  # Show all plots together\n"
   ]
  },
  {
   "cell_type": "code",
   "execution_count": null,
   "metadata": {},
   "outputs": [
    {
     "name": "stdout",
     "output_type": "stream",
     "text": [
      "Standardized Data:\n",
      "   Price in thousands  Sales in thousands  Horsepower  Fuel efficiency\n",
      "0           -0.413039           -0.527996   -0.797638         0.974481\n",
      "1            0.066441           -0.200292    0.695780         0.273405\n",
      "3            1.011504           -0.649523    0.432235        -0.427672\n",
      "4           -0.240009           -0.477261   -0.621941         0.740789\n",
      "5            0.452111           -0.500849    0.256539        -0.427672\n",
      "\n",
      "Normalized Data:\n",
      "   Price in thousands  Sales in thousands  Horsepower  Fuel efficiency\n",
      "0            0.160821            0.031102    0.215190         0.433333\n",
      "1            0.251295            0.072669    0.430380         0.333333\n",
      "3            0.429620            0.015687    0.392405         0.233333\n",
      "4            0.193470            0.037537    0.240506         0.400000\n",
      "5            0.324067            0.034545    0.367089         0.233333\n"
     ]
    }
   ],
   "source": [
    "import pandas as pd\n",
    "from sklearn.preprocessing import StandardScaler, MinMaxScaler\n",
    "\n",
    "df = pd.read_csv(\"car_sales.csv\")\n",
    "columns = [\"Price in thousands\", \"Sales in thousands\", \"Horsepower\", \"Fuel efficiency\"]\n",
    "\n",
    "df[columns] = df[columns].apply(pd.to_numeric, errors='coerce')\n",
    "df_cleaned = df.dropna(subset=columns)\n",
    "\n",
    "scaler = StandardScaler() \n",
    "df_standardized = df_cleaned.copy()\n",
    "\n",
    "df_standardized[columns] = scaler.fit_transform(df_cleaned[columns])\n",
    "\n",
    "normalizer = MinMaxScaler()\n",
    "\n",
    "df_normalized = df_cleaned.copy() \n",
    "\n",
    "df_normalized[columns] = normalizer.fit_transform(df_cleaned[columns])\n",
    "\n",
    "\n",
    "print(\"Standardized Data:\") \n",
    "print(df_standardized[columns].head()) \n",
    "\n",
    "print(\"\\nNormalized Data:\") \n",
    "print(df_normalized[columns].head())\n"
   ]
  },
  {
   "cell_type": "code",
   "execution_count": null,
   "metadata": {},
   "outputs": [],
   "source": []
  }
 ],
 "metadata": {
  "kernelspec": {
   "display_name": "Python 3",
   "language": "python",
   "name": "python3"
  },
  "language_info": {
   "codemirror_mode": {
    "name": "ipython",
    "version": 3
   },
   "file_extension": ".py",
   "mimetype": "text/x-python",
   "name": "python",
   "nbconvert_exporter": "python",
   "pygments_lexer": "ipython3",
   "version": "3.10.12"
  },
  "vscode": {
   "interpreter": {
    "hash": "916dbcbb3f70747c44a77c7bcd40155683ae19c65e1c03b4aa3499c5328201f1"
   }
  }
 },
 "nbformat": 4,
 "nbformat_minor": 2
}
